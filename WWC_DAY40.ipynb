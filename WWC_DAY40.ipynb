{
  "nbformat": 4,
  "nbformat_minor": 0,
  "metadata": {
    "colab": {
      "provenance": [],
      "authorship_tag": "ABX9TyMas4/xrB4KCplmfFikoqnx",
      "include_colab_link": true
    },
    "kernelspec": {
      "name": "python3",
      "display_name": "Python 3"
    },
    "language_info": {
      "name": "python"
    }
  },
  "cells": [
    {
      "cell_type": "markdown",
      "metadata": {
        "id": "view-in-github",
        "colab_type": "text"
      },
      "source": [
        "<a href=\"https://colab.research.google.com/github/Yuvanthica/WOMEN-WHO-CODE-CHALLENGE/blob/main/WWC_DAY40.ipynb\" target=\"_parent\"><img src=\"https://colab.research.google.com/assets/colab-badge.svg\" alt=\"Open In Colab\"/></a>"
      ]
    },
    {
      "cell_type": "markdown",
      "source": [
        "Write a function to find the largest common divisor of two numbers using a function\n"
      ],
      "metadata": {
        "id": "jCqgHX_xKnEM"
      }
    },
    {
      "cell_type": "code",
      "source": [
        "import math as m"
      ],
      "metadata": {
        "id": "tblJpXtdL66f"
      },
      "execution_count": 8,
      "outputs": []
    },
    {
      "cell_type": "code",
      "source": [
        "print(\"The gcd of these numbers is \",m.gcd(90,99))"
      ],
      "metadata": {
        "colab": {
          "base_uri": "https://localhost:8080/"
        },
        "id": "4T6oqP1pMART",
        "outputId": "e5eccb58-b46c-422d-a982-74899b2058e4"
      },
      "execution_count": 9,
      "outputs": [
        {
          "output_type": "stream",
          "name": "stdout",
          "text": [
            "The gcd of these numbers is  9\n"
          ]
        }
      ]
    },
    {
      "cell_type": "code",
      "execution_count": 3,
      "metadata": {
        "id": "5r-NSEaYKbiW"
      },
      "outputs": [],
      "source": [
        "# Python program to find GCD of two numbers\n",
        "\n",
        "\n",
        "# Recursive function to return gcd of a and b\n",
        "def gcd(a, b):\n",
        "\n",
        "\t# Everything divides 0\n",
        "\tif (a == 0):\n",
        "\t\treturn b\n",
        "\tif (b == 0):\n",
        "\t\treturn a\n",
        "\n",
        "\t# Base case\n",
        "\tif (a == b):\n",
        "\t\treturn a\n",
        "\n",
        "\t# a is greater\n",
        "\tif (a > b):\n",
        "\t\treturn gcd(a-b, b)\n",
        "\treturn gcd(a, b-a)\n",
        "\n"
      ]
    },
    {
      "cell_type": "code",
      "source": [
        "if __name__ == '__main__':\n",
        "\ta = 17\n",
        "\tb = 3\n",
        "\tif(gcd(a, b)):\n",
        "\t\tprint('GCD of', a, 'and', b, 'is', gcd(a, b))\n",
        "\telse:\n",
        "\t\tprint('not found')"
      ],
      "metadata": {
        "colab": {
          "base_uri": "https://localhost:8080/"
        },
        "id": "6bUmrG80K926",
        "outputId": "c29d02b7-96b8-452a-9da4-f008df8ed154"
      },
      "execution_count": 7,
      "outputs": [
        {
          "output_type": "stream",
          "name": "stdout",
          "text": [
            "GCD of 17 and 3 is 1\n"
          ]
        }
      ]
    },
    {
      "cell_type": "code",
      "source": [],
      "metadata": {
        "id": "DZ8J1mSELNet"
      },
      "execution_count": null,
      "outputs": []
    }
  ]
}