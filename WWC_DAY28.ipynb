{
  "nbformat": 4,
  "nbformat_minor": 0,
  "metadata": {
    "colab": {
      "provenance": [],
      "authorship_tag": "ABX9TyOfBKBZmzTkeKd3aXjeWDB+",
      "include_colab_link": true
    },
    "kernelspec": {
      "name": "python3",
      "display_name": "Python 3"
    },
    "language_info": {
      "name": "python"
    }
  },
  "cells": [
    {
      "cell_type": "markdown",
      "metadata": {
        "id": "view-in-github",
        "colab_type": "text"
      },
      "source": [
        "<a href=\"https://colab.research.google.com/github/Yuvanthica/WOMEN-WHO-CODE-CHALLENGE/blob/main/WWC_DAY28.ipynb\" target=\"_parent\"><img src=\"https://colab.research.google.com/assets/colab-badge.svg\" alt=\"Open In Colab\"/></a>"
      ]
    },
    {
      "cell_type": "markdown",
      "source": [
        "Create a program that removes the nth element from a list."
      ],
      "metadata": {
        "id": "G0_rBcKmkC01"
      }
    },
    {
      "cell_type": "code",
      "execution_count": 11,
      "metadata": {
        "id": "XZcKug--j5yH"
      },
      "outputs": [],
      "source": [
        "lst = [1,2,3,4,5,6,7,8,9]"
      ]
    },
    {
      "cell_type": "code",
      "source": [
        "for i in range(len(lst)):\n",
        "  if i == 3:\n",
        "    lst.pop(i)\n",
        ""
      ],
      "metadata": {
        "id": "i3X6-1hKkF5S"
      },
      "execution_count": 5,
      "outputs": []
    },
    {
      "cell_type": "code",
      "source": [
        "lst"
      ],
      "metadata": {
        "colab": {
          "base_uri": "https://localhost:8080/"
        },
        "id": "124t5lKrknHR",
        "outputId": "5e3a4184-c6c3-4e7f-b1ca-3f38d5ffd9b8"
      },
      "execution_count": 6,
      "outputs": [
        {
          "output_type": "execute_result",
          "data": {
            "text/plain": [
              "[1, 2, 3, 6, 7, 8, 9]"
            ]
          },
          "metadata": {},
          "execution_count": 6
        }
      ]
    },
    {
      "cell_type": "code",
      "source": [
        "def pop_n(lst,n): #n is the index number of the element in the list\n",
        "    if n <len(lst):\n",
        "      lst.pop(n)\n",
        "      print(lst)\n",
        "    else :\n",
        "      print(\"Out of bound index number\")\n"
      ],
      "metadata": {
        "id": "MChN-z4Hkpoe"
      },
      "execution_count": 24,
      "outputs": []
    },
    {
      "cell_type": "code",
      "source": [
        "pop_n(lst,10)"
      ],
      "metadata": {
        "colab": {
          "base_uri": "https://localhost:8080/"
        },
        "id": "zKxQgzPMuyCj",
        "outputId": "01f30b4b-d3e2-4ba6-ddee-2bc9f1cbe54a"
      },
      "execution_count": 25,
      "outputs": [
        {
          "output_type": "stream",
          "name": "stdout",
          "text": [
            "Out of bound index number\n"
          ]
        }
      ]
    }
  ]
}