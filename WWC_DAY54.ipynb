{
  "nbformat": 4,
  "nbformat_minor": 0,
  "metadata": {
    "colab": {
      "provenance": [],
      "authorship_tag": "ABX9TyNj3aOTJeJOxkstrxeggAfe",
      "include_colab_link": true
    },
    "kernelspec": {
      "name": "python3",
      "display_name": "Python 3"
    },
    "language_info": {
      "name": "python"
    }
  },
  "cells": [
    {
      "cell_type": "markdown",
      "metadata": {
        "id": "view-in-github",
        "colab_type": "text"
      },
      "source": [
        "<a href=\"https://colab.research.google.com/github/Yuvanthica/WOMEN-WHO-CODE-CHALLENGE/blob/main/WWC_DAY54.ipynb\" target=\"_parent\"><img src=\"https://colab.research.google.com/assets/colab-badge.svg\" alt=\"Open In Colab\"/></a>"
      ]
    },
    {
      "cell_type": "markdown",
      "source": [
        "**Create a function to find all words in a sentence that start with a vowel**"
      ],
      "metadata": {
        "id": "KD7r51qt6zaC"
      }
    },
    {
      "cell_type": "code",
      "source": [
        "def vowel_sent(sentence):\n",
        "  words = sentence.split()\n",
        "  vowel_word =[]\n",
        "  for i in words:\n",
        "    i = i.lower()\n",
        "    if i[0] in \"aeiou\":\n",
        "      vowel_word.append(i)\n",
        "  return vowel_word"
      ],
      "metadata": {
        "id": "sbVs3gSG9wk9"
      },
      "execution_count": 18,
      "outputs": []
    },
    {
      "cell_type": "code",
      "source": [
        "vowel_sent(\"All should get love and be educated\")"
      ],
      "metadata": {
        "colab": {
          "base_uri": "https://localhost:8080/"
        },
        "id": "6edGqSnX__GF",
        "outputId": "da8b4262-c4c9-4cbb-e719-1d3862f852db"
      },
      "execution_count": 19,
      "outputs": [
        {
          "output_type": "execute_result",
          "data": {
            "text/plain": [
              "['all', 'and', 'educated']"
            ]
          },
          "metadata": {},
          "execution_count": 19
        }
      ]
    }
  ]
}