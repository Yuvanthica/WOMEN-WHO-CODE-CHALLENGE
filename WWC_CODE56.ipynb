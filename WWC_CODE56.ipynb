{
  "nbformat": 4,
  "nbformat_minor": 0,
  "metadata": {
    "colab": {
      "provenance": [],
      "authorship_tag": "ABX9TyOoHqCSgehG2NFdAr+huhB/",
      "include_colab_link": true
    },
    "kernelspec": {
      "name": "python3",
      "display_name": "Python 3"
    },
    "language_info": {
      "name": "python"
    }
  },
  "cells": [
    {
      "cell_type": "markdown",
      "metadata": {
        "id": "view-in-github",
        "colab_type": "text"
      },
      "source": [
        "<a href=\"https://colab.research.google.com/github/Yuvanthica/WOMEN-WHO-CODE-CHALLENGE/blob/main/WWC_CODE56.ipynb\" target=\"_parent\"><img src=\"https://colab.research.google.com/assets/colab-badge.svg\" alt=\"Open In Colab\"/></a>"
      ]
    },
    {
      "cell_type": "markdown",
      "source": [
        "Create a function to extract all URLs from a given text using regular expressions"
      ],
      "metadata": {
        "id": "T_X86f6EHkUg"
      }
    },
    {
      "cell_type": "code",
      "execution_count": 1,
      "metadata": {
        "id": "MQabHCn1G7xz"
      },
      "outputs": [],
      "source": [
        "import re"
      ]
    },
    {
      "cell_type": "code",
      "source": [
        "text = \"To learn more, please follow us — http://www.sql-datatools.com To Learn more, please visit our YouTube channel at — http://www.youtube.com/c/Sql-datatools To Learn more, please visit our Instagram account at — https://www.instagram.com/asp.mukesh/ To Learn more, please visit our twitter account at — https://twitter.com/macxima To Learn more, please visit our Medium account at — https://medium.com/@macxima\""
      ],
      "metadata": {
        "id": "5pBKzpzOINQj"
      },
      "execution_count": 3,
      "outputs": []
    },
    {
      "cell_type": "code",
      "source": [
        "ex_url = re.compile('((https?):((//)|(\\\\\\\\))+([\\w\\d:d#@%/;$()~_?\\+-=\\\\\\\\.&](#!)?)*)',re.DOTALL)"
      ],
      "metadata": {
        "id": "fllpAgqdIPWX"
      },
      "execution_count": 4,
      "outputs": []
    },
    {
      "cell_type": "code",
      "source": [
        "mod = ex_url.finditer(text)"
      ],
      "metadata": {
        "id": "A5LRFCYyJdeS"
      },
      "execution_count": 5,
      "outputs": []
    },
    {
      "cell_type": "code",
      "source": [
        "url = []"
      ],
      "metadata": {
        "id": "68XOFca6KBEw"
      },
      "execution_count": 7,
      "outputs": []
    },
    {
      "cell_type": "code",
      "source": [
        "for urls in mod:\n",
        "  url.append(text[urls.start():urls.end()])"
      ],
      "metadata": {
        "id": "Q20xdKPtJ47I"
      },
      "execution_count": 8,
      "outputs": []
    },
    {
      "cell_type": "code",
      "source": [
        "if len(url) ==0:\n",
        "  print(\"not a url\")\n",
        "\n",
        "for url_ in url:\n",
        "  print(url_)"
      ],
      "metadata": {
        "colab": {
          "base_uri": "https://localhost:8080/"
        },
        "id": "hxpZNdhPKKoo",
        "outputId": "1f471077-a0e6-4ff5-b871-1bb72d79326d"
      },
      "execution_count": 9,
      "outputs": [
        {
          "output_type": "stream",
          "name": "stdout",
          "text": [
            "http://www.youtube.com/c/Sql-datatools\n",
            "https://www.instagram.com/asp.mukesh/\n",
            "https://twitter.com/macxima\n",
            "https://medium.com/@macxima\n"
          ]
        }
      ]
    },
    {
      "cell_type": "code",
      "source": [
        "def extract_urls(texts):\n",
        "\n",
        "  ex_url = re.compile('((https?):((//)|(\\\\\\\\))+([\\w\\d:d#@%/;$()~_?\\+-=\\\\\\\\.&](#!)?)*)',re.DOTALL)\n",
        "  mod = ex_url.finditer(texts)\n",
        "  url_ls = []\n",
        "  for urls in mod:\n",
        "    url_ls.append(texts[urls.start():urls.end()])\n",
        "  if len(url_ls) ==0:\n",
        "         print(\"No urls present in the data\")\n",
        "         return\n",
        "\n",
        "  for url in url_ls:\n",
        "        print(url)"
      ],
      "metadata": {
        "id": "L5JxNW5xKbGP"
      },
      "execution_count": 19,
      "outputs": []
    },
    {
      "cell_type": "code",
      "source": [
        "extract_urls(\"Welcome to Computer Science Portal\")"
      ],
      "metadata": {
        "colab": {
          "base_uri": "https://localhost:8080/"
        },
        "id": "pR1Ff6bILFic",
        "outputId": "2241d2d1-a1c8-4c8f-cb45-cafe0716876e"
      },
      "execution_count": 20,
      "outputs": [
        {
          "output_type": "stream",
          "name": "stdout",
          "text": [
            "No urls present in the data\n"
          ]
        }
      ]
    },
    {
      "cell_type": "code",
      "source": [
        "extract_urls(text)"
      ],
      "metadata": {
        "colab": {
          "base_uri": "https://localhost:8080/"
        },
        "id": "Jl1YzcRbLSQf",
        "outputId": "d45d291d-e6da-49bd-db76-0f6f90823f34"
      },
      "execution_count": 21,
      "outputs": [
        {
          "output_type": "stream",
          "name": "stdout",
          "text": [
            "http://www.sql-datatools.com\n",
            "http://www.youtube.com/c/Sql-datatools\n",
            "https://www.instagram.com/asp.mukesh/\n",
            "https://twitter.com/macxima\n",
            "https://medium.com/@macxima\n"
          ]
        }
      ]
    }
  ]
}