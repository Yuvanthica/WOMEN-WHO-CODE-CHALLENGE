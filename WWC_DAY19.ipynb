{
  "nbformat": 4,
  "nbformat_minor": 0,
  "metadata": {
    "colab": {
      "provenance": [],
      "authorship_tag": "ABX9TyPYM0EylLINuxVRMCIgcFIb",
      "include_colab_link": true
    },
    "kernelspec": {
      "name": "python3",
      "display_name": "Python 3"
    },
    "language_info": {
      "name": "python"
    }
  },
  "cells": [
    {
      "cell_type": "markdown",
      "metadata": {
        "id": "view-in-github",
        "colab_type": "text"
      },
      "source": [
        "<a href=\"https://colab.research.google.com/github/Yuvanthica/WOMEN-WHO-CODE-CHALLENGE/blob/main/WWC_DAY19.ipynb\" target=\"_parent\"><img src=\"https://colab.research.google.com/assets/colab-badge.svg\" alt=\"Open In Colab\"/></a>"
      ]
    },
    {
      "cell_type": "markdown",
      "source": [
        "**Write a function to calculate the factorial of a number.**"
      ],
      "metadata": {
        "id": "uq81gh2DgwKV"
      }
    },
    {
      "cell_type": "code",
      "execution_count": 2,
      "metadata": {
        "id": "cMJQKz_hgN6J"
      },
      "outputs": [],
      "source": [
        "def fact(n):\n",
        "  if n ==0 or n==1:\n",
        "    return 1\n",
        "  else:\n",
        "    return  n*fact(n-1)\n"
      ]
    },
    {
      "cell_type": "code",
      "source": [
        "fact(5)"
      ],
      "metadata": {
        "colab": {
          "base_uri": "https://localhost:8080/"
        },
        "id": "h3F5d4RRgfdf",
        "outputId": "8d286cdb-a7a2-4ff2-ff52-6f9420e9c9f2"
      },
      "execution_count": 3,
      "outputs": [
        {
          "output_type": "execute_result",
          "data": {
            "text/plain": [
              "120"
            ]
          },
          "metadata": {},
          "execution_count": 3
        }
      ]
    }
  ]
}