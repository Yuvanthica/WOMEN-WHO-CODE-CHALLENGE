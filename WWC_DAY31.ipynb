{
  "nbformat": 4,
  "nbformat_minor": 0,
  "metadata": {
    "colab": {
      "provenance": [],
      "authorship_tag": "ABX9TyNwAbd6Wi7XT3f+5K8dfDaY",
      "include_colab_link": true
    },
    "kernelspec": {
      "name": "python3",
      "display_name": "Python 3"
    },
    "language_info": {
      "name": "python"
    }
  },
  "cells": [
    {
      "cell_type": "markdown",
      "metadata": {
        "id": "view-in-github",
        "colab_type": "text"
      },
      "source": [
        "<a href=\"https://colab.research.google.com/github/Yuvanthica/WOMEN-WHO-CODE-CHALLENGE/blob/main/WWC_DAY31.ipynb\" target=\"_parent\"><img src=\"https://colab.research.google.com/assets/colab-badge.svg\" alt=\"Open In Colab\"/></a>"
      ]
    },
    {
      "cell_type": "markdown",
      "source": [
        "Create a program that checks if a given string is a valid email address."
      ],
      "metadata": {
        "id": "qIxLYOI00JNd"
      }
    },
    {
      "cell_type": "code",
      "execution_count": 1,
      "metadata": {
        "id": "iOYGQbzx0HVt"
      },
      "outputs": [],
      "source": [
        "import re\n",
        "\n",
        "def check(email):\n",
        "    mail = r'\\b[A-Za-z0-9._%+-]+@[A-Za-z0-9.-]+\\.[A-Z|a-z]{2,7}\\b'\n",
        "    if re.match(mail,email):\n",
        "        print(\"Valid Email\")\n",
        "    else:\n",
        "        print(\"Invalid Email\")"
      ]
    },
    {
      "cell_type": "code",
      "source": [
        "check(\"yuvanthisaba16gmail.com\")"
      ],
      "metadata": {
        "colab": {
          "base_uri": "https://localhost:8080/"
        },
        "id": "9vJHoNZA1Ony",
        "outputId": "35e59d70-38af-4555-9326-2f4f7501b5cf"
      },
      "execution_count": 3,
      "outputs": [
        {
          "output_type": "stream",
          "name": "stdout",
          "text": [
            "Invalid Email\n"
          ]
        }
      ]
    },
    {
      "cell_type": "code",
      "source": [
        "check(\"yuvanthisaba16@gmail.com\")"
      ],
      "metadata": {
        "colab": {
          "base_uri": "https://localhost:8080/"
        },
        "id": "94diFG-x1Wpv",
        "outputId": "6c10292a-87f3-4da1-8359-efb43d191c1b"
      },
      "execution_count": 4,
      "outputs": [
        {
          "output_type": "stream",
          "name": "stdout",
          "text": [
            "Valid Email\n"
          ]
        }
      ]
    },
    {
      "cell_type": "code",
      "source": [
        "check(\"yuvanthisaba16#gmail.com\")"
      ],
      "metadata": {
        "colab": {
          "base_uri": "https://localhost:8080/"
        },
        "id": "DS7Y6Cbz1cZj",
        "outputId": "9059f5db-4002-48da-ab4a-cc916dbeb47d"
      },
      "execution_count": 5,
      "outputs": [
        {
          "output_type": "stream",
          "name": "stdout",
          "text": [
            "Invalid Email\n"
          ]
        }
      ]
    },
    {
      "cell_type": "code",
      "source": [
        "!pip install email_validator"
      ],
      "metadata": {
        "colab": {
          "base_uri": "https://localhost:8080/"
        },
        "id": "KXbzJEwN1n8X",
        "outputId": "91c1c644-1fc0-402a-dd76-b4ab6e39b728"
      },
      "execution_count": 6,
      "outputs": [
        {
          "output_type": "stream",
          "name": "stdout",
          "text": [
            "Collecting email_validator\n",
            "  Downloading email_validator-2.1.0.post1-py3-none-any.whl (32 kB)\n",
            "Collecting dnspython>=2.0.0 (from email_validator)\n",
            "  Downloading dnspython-2.5.0-py3-none-any.whl (305 kB)\n",
            "\u001b[2K     \u001b[90m━━━━━━━━━━━━━━━━━━━━━━━━━━━━━━━━━━━━━━━━\u001b[0m \u001b[32m305.4/305.4 kB\u001b[0m \u001b[31m3.5 MB/s\u001b[0m eta \u001b[36m0:00:00\u001b[0m\n",
            "\u001b[?25hRequirement already satisfied: idna>=2.0.0 in /usr/local/lib/python3.10/dist-packages (from email_validator) (3.6)\n",
            "Installing collected packages: dnspython, email_validator\n",
            "Successfully installed dnspython-2.5.0 email_validator-2.1.0.post1\n"
          ]
        }
      ]
    },
    {
      "cell_type": "code",
      "source": [
        "from email_validator import validate_email, EmailNotValidError\n",
        "\n",
        "def check1(email):\n",
        "\ttry:\n",
        "\t# validate and get info\n",
        "\t\tv = validate_email(email)\n",
        "\t\t# replace with normalized form\n",
        "\t\temail = v[\"email\"]\n",
        "\t\tprint(\"True\")\n",
        "\texcept EmailNotValidError as e:\n",
        "\t\t# email is not valid, exception message is human-readable\n",
        "\t\tprint(str(e))\n"
      ],
      "metadata": {
        "id": "fHLyeB2j1fq8"
      },
      "execution_count": 8,
      "outputs": []
    },
    {
      "cell_type": "code",
      "source": [
        "check1(\"yuvanthisaba16gmail.com\")"
      ],
      "metadata": {
        "colab": {
          "base_uri": "https://localhost:8080/"
        },
        "id": "pZS7ZLKJ1swD",
        "outputId": "e14dd799-62ed-4297-df8c-25de510dfba3"
      },
      "execution_count": 9,
      "outputs": [
        {
          "output_type": "stream",
          "name": "stdout",
          "text": [
            "The email address is not valid. It must have exactly one @-sign.\n"
          ]
        }
      ]
    },
    {
      "cell_type": "code",
      "source": [
        "check1(\"yuvanthisaba16@1.org\")"
      ],
      "metadata": {
        "colab": {
          "base_uri": "https://localhost:8080/"
        },
        "id": "r8IIWckw13iu",
        "outputId": "8b69a303-b1ba-4118-d54c-4e1ba99edb49"
      },
      "execution_count": 13,
      "outputs": [
        {
          "output_type": "stream",
          "name": "stdout",
          "text": [
            "True\n"
          ]
        },
        {
          "output_type": "stream",
          "name": "stderr",
          "text": [
            "<ipython-input-8-e1a76456a261>:8: DeprecationWarning: dict-like access to the return value of validate_email is deprecated and may not be supported in the future.\n",
            "  email = v[\"email\"]\n"
          ]
        }
      ]
    }
  ]
}