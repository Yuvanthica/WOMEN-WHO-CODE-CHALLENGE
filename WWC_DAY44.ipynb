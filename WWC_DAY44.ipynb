{
  "nbformat": 4,
  "nbformat_minor": 0,
  "metadata": {
    "colab": {
      "provenance": [],
      "authorship_tag": "ABX9TyMmsFq4A70lKz1AC630IgKr",
      "include_colab_link": true
    },
    "kernelspec": {
      "name": "python3",
      "display_name": "Python 3"
    },
    "language_info": {
      "name": "python"
    }
  },
  "cells": [
    {
      "cell_type": "markdown",
      "metadata": {
        "id": "view-in-github",
        "colab_type": "text"
      },
      "source": [
        "<a href=\"https://colab.research.google.com/github/Yuvanthica/WOMEN-WHO-CODE-CHALLENGE/blob/main/WWC_DAY44.ipynb\" target=\"_parent\"><img src=\"https://colab.research.google.com/assets/colab-badge.svg\" alt=\"Open In Colab\"/></a>"
      ]
    },
    {
      "cell_type": "markdown",
      "source": [
        "Write a program that reads an integer from the user and handles invalid inputs"
      ],
      "metadata": {
        "id": "bZXAbeb6ZiPj"
      }
    },
    {
      "cell_type": "code",
      "execution_count": 2,
      "metadata": {
        "colab": {
          "base_uri": "https://localhost:8080/"
        },
        "id": "e8L6rdunZddS",
        "outputId": "53d4abb1-2951-47b4-c298-1f060e190f09"
      },
      "outputs": [
        {
          "output_type": "stream",
          "name": "stdout",
          "text": [
            "Enter a number:am\n",
            "Enter only numeric values\n"
          ]
        }
      ],
      "source": [
        "try:\n",
        "  num = int(input(\"Enter a number:\"))\n",
        "  print(num)\n",
        "except:\n",
        "  print(\"Enter only numeric values\")"
      ]
    }
  ]
}