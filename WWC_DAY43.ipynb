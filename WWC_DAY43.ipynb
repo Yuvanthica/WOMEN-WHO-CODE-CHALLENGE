{
  "nbformat": 4,
  "nbformat_minor": 0,
  "metadata": {
    "colab": {
      "provenance": [],
      "authorship_tag": "ABX9TyPeZ/3LfsEAm/qWSOU9Do5P",
      "include_colab_link": true
    },
    "kernelspec": {
      "name": "python3",
      "display_name": "Python 3"
    },
    "language_info": {
      "name": "python"
    }
  },
  "cells": [
    {
      "cell_type": "markdown",
      "metadata": {
        "id": "view-in-github",
        "colab_type": "text"
      },
      "source": [
        "<a href=\"https://colab.research.google.com/github/Yuvanthica/WOMEN-WHO-CODE-CHALLENGE/blob/main/WWC_DAY43.ipynb\" target=\"_parent\"><img src=\"https://colab.research.google.com/assets/colab-badge.svg\" alt=\"Open In Colab\"/></a>"
      ]
    },
    {
      "cell_type": "markdown",
      "source": [
        "Write a program that removes all whitespaces from a given string\n"
      ],
      "metadata": {
        "id": "NrWY6-Hnznxm"
      }
    },
    {
      "cell_type": "markdown",
      "source": [
        "For no spaces between the words"
      ],
      "metadata": {
        "id": "wkYKcFl82J8C"
      }
    },
    {
      "cell_type": "code",
      "execution_count": 4,
      "metadata": {
        "colab": {
          "base_uri": "https://localhost:8080/"
        },
        "id": "Z9vIsiAQzbYt",
        "outputId": "fc26ddfa-b881-4e27-fdb5-e85fc201ced5"
      },
      "outputs": [
        {
          "output_type": "stream",
          "name": "stdout",
          "text": [
            "Filterspaces\n"
          ]
        }
      ],
      "source": [
        "original_string = \"   Filter spaces   \"\n",
        "no_whitespace = ''.join(filter(lambda x: not x.isspace(), original_string))\n",
        "print(no_whitespace)"
      ]
    },
    {
      "cell_type": "markdown",
      "source": [
        "For one space between the words\n"
      ],
      "metadata": {
        "id": "zf1EcgoO2Qvo"
      }
    },
    {
      "cell_type": "code",
      "source": [
        "original_string = \"Split and  Join\"\n",
        "no_whitespace = ' '.join(original_string.split())\n",
        "print(no_whitespace)"
      ],
      "metadata": {
        "colab": {
          "base_uri": "https://localhost:8080/"
        },
        "id": "aGTH8pdc0JFZ",
        "outputId": "2dfbbc15-62a0-4253-d0a0-866b1cf1fac8"
      },
      "execution_count": 5,
      "outputs": [
        {
          "output_type": "stream",
          "name": "stdout",
          "text": [
            "Split and Join\n"
          ]
        }
      ]
    },
    {
      "cell_type": "code",
      "source": [],
      "metadata": {
        "id": "B4_TLJ_92z_Z"
      },
      "execution_count": null,
      "outputs": []
    }
  ]
}