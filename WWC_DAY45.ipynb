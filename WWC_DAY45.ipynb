{
  "nbformat": 4,
  "nbformat_minor": 0,
  "metadata": {
    "colab": {
      "provenance": [],
      "authorship_tag": "ABX9TyOB7IdU9K4yna0MA9HRW6d/",
      "include_colab_link": true
    },
    "kernelspec": {
      "name": "python3",
      "display_name": "Python 3"
    },
    "language_info": {
      "name": "python"
    }
  },
  "cells": [
    {
      "cell_type": "markdown",
      "metadata": {
        "id": "view-in-github",
        "colab_type": "text"
      },
      "source": [
        "<a href=\"https://colab.research.google.com/github/Yuvanthica/WOMEN-WHO-CODE-CHALLENGE/blob/main/WWC_DAY45.ipynb\" target=\"_parent\"><img src=\"https://colab.research.google.com/assets/colab-badge.svg\" alt=\"Open In Colab\"/></a>"
      ]
    },
    {
      "cell_type": "markdown",
      "source": [
        "Write a function to check if a number is a prime number"
      ],
      "metadata": {
        "id": "yur5x2ftcq-3"
      }
    },
    {
      "cell_type": "code",
      "execution_count": 5,
      "metadata": {
        "id": "ErK5I70ibmKm"
      },
      "outputs": [],
      "source": [
        "def check_prime(num):\n",
        "  x = not any(num % i == 0 for i in range(2,int(num**.5)+1))\n",
        "  if x == \"True\":\n",
        "    print(\"The given number is a prime number\")\n",
        "  else:\n",
        "    print(\"The given number is not a prime number\")"
      ]
    },
    {
      "cell_type": "code",
      "source": [
        "check_prime(8)"
      ],
      "metadata": {
        "colab": {
          "base_uri": "https://localhost:8080/"
        },
        "id": "LHj2jpHldOjg",
        "outputId": "12e9b41a-da4e-4c5d-a270-4ce760af15fa"
      },
      "execution_count": 6,
      "outputs": [
        {
          "output_type": "stream",
          "name": "stdout",
          "text": [
            "The given number is not a prime number\n"
          ]
        }
      ]
    }
  ]
}