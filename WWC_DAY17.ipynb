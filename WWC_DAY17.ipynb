{
  "nbformat": 4,
  "nbformat_minor": 0,
  "metadata": {
    "colab": {
      "provenance": [],
      "authorship_tag": "ABX9TyPxLh1fLsKGHhWxPQsbsth2",
      "include_colab_link": true
    },
    "kernelspec": {
      "name": "python3",
      "display_name": "Python 3"
    },
    "language_info": {
      "name": "python"
    }
  },
  "cells": [
    {
      "cell_type": "markdown",
      "metadata": {
        "id": "view-in-github",
        "colab_type": "text"
      },
      "source": [
        "<a href=\"https://colab.research.google.com/github/Yuvanthica/WOMEN-WHO-CODE-CHALLENGE/blob/main/WWC_DAY17.ipynb\" target=\"_parent\"><img src=\"https://colab.research.google.com/assets/colab-badge.svg\" alt=\"Open In Colab\"/></a>"
      ]
    },
    {
      "cell_type": "markdown",
      "source": [
        "Create a program that capitalizes the first letter of each word in a sentence"
      ],
      "metadata": {
        "id": "m6PcnEWYgtFA"
      }
    },
    {
      "cell_type": "code",
      "source": [
        "def caps(str):\n",
        "  res = \"\"\n",
        "  str1 = str.split()\n",
        "  for s in str1:\n",
        "    if len(res)>0:\n",
        "      res = res +\"  \"+s.strip().capitalize()\n",
        "    else:\n",
        "      res = s.capitalize()\n",
        "  print(res)"
      ],
      "metadata": {
        "id": "AEt2jO42gsbT"
      },
      "execution_count": 2,
      "outputs": []
    },
    {
      "cell_type": "code",
      "execution_count": 6,
      "metadata": {
        "colab": {
          "base_uri": "https://localhost:8080/"
        },
        "id": "iTowwmC5goc0",
        "outputId": "e19ba6c3-13bb-4e60-b29e-2ac652494dc2"
      },
      "outputs": [
        {
          "output_type": "stream",
          "name": "stdout",
          "text": [
            "AnappleMangoAreKeptOnTheTable\n"
          ]
        }
      ],
      "source": [
        "caps(\"anApple mango are kept on the table\")"
      ]
    }
  ]
}