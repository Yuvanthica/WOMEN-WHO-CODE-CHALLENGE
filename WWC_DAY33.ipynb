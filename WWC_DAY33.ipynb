{
  "nbformat": 4,
  "nbformat_minor": 0,
  "metadata": {
    "colab": {
      "provenance": [],
      "authorship_tag": "ABX9TyNQuAvC4Q2Lf87nJuGgKwK3",
      "include_colab_link": true
    },
    "kernelspec": {
      "name": "python3",
      "display_name": "Python 3"
    },
    "language_info": {
      "name": "python"
    }
  },
  "cells": [
    {
      "cell_type": "markdown",
      "metadata": {
        "id": "view-in-github",
        "colab_type": "text"
      },
      "source": [
        "<a href=\"https://colab.research.google.com/github/Yuvanthica/WOMEN-WHO-CODE-CHALLENGE/blob/main/WWC_DAY33.ipynb\" target=\"_parent\"><img src=\"https://colab.research.google.com/assets/colab-badge.svg\" alt=\"Open In Colab\"/></a>"
      ]
    },
    {
      "cell_type": "markdown",
      "source": [
        "Write a test case for a function that checks if a number is prime"
      ],
      "metadata": {
        "id": "quqjN7142Iiz"
      }
    },
    {
      "cell_type": "code",
      "execution_count": 10,
      "metadata": {
        "id": "TBLIesKGSv76"
      },
      "outputs": [],
      "source": [
        "def check_prime(num):\n",
        "  if num > 1:\n",
        "      for i in range(2, int(num/2)+1):\n",
        "          if (num % i) == 0:\n",
        "              print(num, \"is not a prime number\")\n",
        "              break\n",
        "      else:\n",
        "          print(num, \"is a prime number\")\n",
        "  else:\n",
        "      print(num, \"is not a prime number\")"
      ]
    },
    {
      "cell_type": "code",
      "source": [
        "check_prime(12)"
      ],
      "metadata": {
        "colab": {
          "base_uri": "https://localhost:8080/"
        },
        "id": "a12WIL4e3nKf",
        "outputId": "fa799e6d-bfde-48e6-a9c1-99d010633bed"
      },
      "execution_count": 12,
      "outputs": [
        {
          "output_type": "stream",
          "name": "stdout",
          "text": [
            "12 is not a prime number\n"
          ]
        }
      ]
    }
  ]
}