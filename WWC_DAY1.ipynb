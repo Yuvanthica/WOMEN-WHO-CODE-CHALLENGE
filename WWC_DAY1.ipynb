{
  "nbformat": 4,
  "nbformat_minor": 0,
  "metadata": {
    "colab": {
      "provenance": []
    },
    "kernelspec": {
      "name": "python3",
      "display_name": "Python 3"
    },
    "language_info": {
      "name": "python"
    }
  },
  "cells": [
    {
      "cell_type": "markdown",
      "source": [
        "Check\n"
      ],
      "metadata": {
        "id": "7940tmKlYlyf"
      }
    },
    {
      "cell_type": "code",
      "execution_count": 8,
      "metadata": {
        "id": "g3Mt6TnQYiwM"
      },
      "outputs": [],
      "source": [
        "a = 5\n",
        "b = 2\n"
      ]
    },
    {
      "cell_type": "code",
      "source": [
        "a,b = b,a"
      ],
      "metadata": {
        "id": "KTD1XrTlZbpD"
      },
      "execution_count": null,
      "outputs": []
    },
    {
      "cell_type": "code",
      "source": [
        "a ,b"
      ],
      "metadata": {
        "colab": {
          "base_uri": "https://localhost:8080/"
        },
        "id": "mUcyC4FtYxHW",
        "outputId": "cd2ef380-c6d9-478f-bb2e-c4cbe5d33334"
      },
      "execution_count": 7,
      "outputs": [
        {
          "output_type": "execute_result",
          "data": {
            "text/plain": [
              "(2, 5)"
            ]
          },
          "metadata": {},
          "execution_count": 7
        }
      ]
    },
    {
      "cell_type": "code",
      "source": [
        "temp = a\n",
        "a = b\n",
        "b= temp"
      ],
      "metadata": {
        "id": "KHYhMgTCZCH3"
      },
      "execution_count": 9,
      "outputs": []
    },
    {
      "cell_type": "code",
      "source": [
        "a,b"
      ],
      "metadata": {
        "colab": {
          "base_uri": "https://localhost:8080/"
        },
        "id": "DHZnmUyyZPMn",
        "outputId": "b8eaef87-6485-4d01-d911-e3c97567e8b4"
      },
      "execution_count": 10,
      "outputs": [
        {
          "output_type": "execute_result",
          "data": {
            "text/plain": [
              "(2, 5)"
            ]
          },
          "metadata": {},
          "execution_count": 10
        }
      ]
    },
    {
      "cell_type": "markdown",
      "source": [
        "**Function to SWAP the values of two variables**"
      ],
      "metadata": {
        "id": "NjoelcRdZ2Nx"
      }
    },
    {
      "cell_type": "code",
      "source": [
        "def swap_val(a,b):\n",
        "    print(\"Old Value a= \",a)\n",
        "    print(\"Old Value b= \",b)\n",
        "    a,b = b,a\n",
        "    print(\"New Value a= \",a)\n",
        "    print(\"New Value b= \",b)"
      ],
      "metadata": {
        "id": "x8il9G3VZQMN"
      },
      "execution_count": 13,
      "outputs": []
    },
    {
      "cell_type": "code",
      "source": [
        "swap_val(4,3)"
      ],
      "metadata": {
        "colab": {
          "base_uri": "https://localhost:8080/"
        },
        "id": "_LRnmmHVaOvp",
        "outputId": "806dbd79-a670-4158-bd00-3790f1191985"
      },
      "execution_count": 14,
      "outputs": [
        {
          "output_type": "stream",
          "name": "stdout",
          "text": [
            "Old Value a=  4\n",
            "Old Value b=  3\n",
            "New Value a=  3\n",
            "New Value b=  4\n"
          ]
        }
      ]
    },
    {
      "cell_type": "code",
      "source": [
        "def swap_temp(a,b):\n",
        "    print(\"Old Value a= \",a)\n",
        "    print(\"Old Value b= \",b)\n",
        "    temp = a\n",
        "    a = b\n",
        "    b = temp\n",
        "    print(\"New Value a= \",a)\n",
        "    print(\"New Value b= \",b)"
      ],
      "metadata": {
        "id": "QB-xGZkVaROM"
      },
      "execution_count": 15,
      "outputs": []
    },
    {
      "cell_type": "code",
      "source": [
        "swap_temp(6,8)"
      ],
      "metadata": {
        "colab": {
          "base_uri": "https://localhost:8080/"
        },
        "id": "qRR9gqoEajbo",
        "outputId": "1d9aa8d8-69fe-4d05-ab70-c1db9c0d4d4b"
      },
      "execution_count": 16,
      "outputs": [
        {
          "output_type": "stream",
          "name": "stdout",
          "text": [
            "Old Value a=  6\n",
            "Old Value b=  8\n",
            "New Value a=  8\n",
            "New Value b=  6\n"
          ]
        }
      ]
    },
    {
      "cell_type": "code",
      "source": [],
      "metadata": {
        "id": "SCWZkQnAal4d"
      },
      "execution_count": null,
      "outputs": []
    }
  ]
}