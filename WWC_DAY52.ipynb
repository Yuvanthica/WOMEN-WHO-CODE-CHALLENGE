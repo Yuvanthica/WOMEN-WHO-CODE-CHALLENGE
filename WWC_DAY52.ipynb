{
  "nbformat": 4,
  "nbformat_minor": 0,
  "metadata": {
    "colab": {
      "provenance": [],
      "authorship_tag": "ABX9TyM+e3jJ7eMZ2AdIhcASTU2G",
      "include_colab_link": true
    },
    "kernelspec": {
      "name": "python3",
      "display_name": "Python 3"
    },
    "language_info": {
      "name": "python"
    }
  },
  "cells": [
    {
      "cell_type": "markdown",
      "metadata": {
        "id": "view-in-github",
        "colab_type": "text"
      },
      "source": [
        "<a href=\"https://colab.research.google.com/github/Yuvanthica/WOMEN-WHO-CODE-CHALLENGE/blob/main/WWC_DAY52.ipynb\" target=\"_parent\"><img src=\"https://colab.research.google.com/assets/colab-badge.svg\" alt=\"Open In Colab\"/></a>"
      ]
    },
    {
      "cell_type": "markdown",
      "source": [
        "Create a program that checks if a string is a palindrome\n"
      ],
      "metadata": {
        "id": "_DK0qg0mHNEL"
      }
    },
    {
      "cell_type": "code",
      "execution_count": 1,
      "metadata": {
        "id": "x1k6mIPyHIZ0"
      },
      "outputs": [],
      "source": [
        "def check_palindrome(str):\n",
        "  if str == str[::-1]:\n",
        "    print(\"This is a palindrome\")\n",
        "  else :\n",
        "    print(\"This is not a palindrome\")"
      ]
    },
    {
      "cell_type": "code",
      "source": [
        "check_palindrome(\"racecars\")"
      ],
      "metadata": {
        "colab": {
          "base_uri": "https://localhost:8080/"
        },
        "id": "9KB2NYTPHVnn",
        "outputId": "3d7c9471-8fc2-45e1-d447-c894fbf224dc"
      },
      "execution_count": 4,
      "outputs": [
        {
          "output_type": "stream",
          "name": "stdout",
          "text": [
            "This is not a palindrome\n"
          ]
        }
      ]
    }
  ]
}