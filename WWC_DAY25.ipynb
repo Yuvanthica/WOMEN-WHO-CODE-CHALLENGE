{
  "nbformat": 4,
  "nbformat_minor": 0,
  "metadata": {
    "colab": {
      "provenance": [],
      "authorship_tag": "ABX9TyPIsc92ne3AKFp9HH4VCyyi",
      "include_colab_link": true
    },
    "kernelspec": {
      "name": "python3",
      "display_name": "Python 3"
    },
    "language_info": {
      "name": "python"
    }
  },
  "cells": [
    {
      "cell_type": "markdown",
      "metadata": {
        "id": "view-in-github",
        "colab_type": "text"
      },
      "source": [
        "<a href=\"https://colab.research.google.com/github/Yuvanthica/WOMEN-WHO-CODE-CHALLENGE/blob/main/WWC_DAY25.ipynb\" target=\"_parent\"><img src=\"https://colab.research.google.com/assets/colab-badge.svg\" alt=\"Open In Colab\"/></a>"
      ]
    },
    {
      "cell_type": "markdown",
      "source": [
        "Create a program to concatenate two lists."
      ],
      "metadata": {
        "id": "T2ajkyqnfAZ0"
      }
    },
    {
      "cell_type": "code",
      "execution_count": 1,
      "metadata": {
        "id": "0O9Ey79Re6VR"
      },
      "outputs": [],
      "source": [
        "def concat_lst(lst1,lst2):\n",
        "  newlst = lst1+lst2\n",
        "  return newlst"
      ]
    },
    {
      "cell_type": "code",
      "source": [
        "concat_lst([1,2,3,4],[\"a\",\"e\",\"i\",\"o\",\"u\"])"
      ],
      "metadata": {
        "colab": {
          "base_uri": "https://localhost:8080/"
        },
        "id": "tPqOdXrUfKyw",
        "outputId": "13106f9b-58a0-4233-dd02-1db69e0eb551"
      },
      "execution_count": 2,
      "outputs": [
        {
          "output_type": "execute_result",
          "data": {
            "text/plain": [
              "[1, 2, 3, 4, 'a', 'e', 'i', 'o', 'u']"
            ]
          },
          "metadata": {},
          "execution_count": 2
        }
      ]
    }
  ]
}