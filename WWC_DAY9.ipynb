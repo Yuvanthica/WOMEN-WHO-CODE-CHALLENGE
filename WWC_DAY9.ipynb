{
  "nbformat": 4,
  "nbformat_minor": 0,
  "metadata": {
    "colab": {
      "provenance": [],
      "authorship_tag": "ABX9TyMzTf7j9PMcriqjl/iISfSc",
      "include_colab_link": true
    },
    "kernelspec": {
      "name": "python3",
      "display_name": "Python 3"
    },
    "language_info": {
      "name": "python"
    }
  },
  "cells": [
    {
      "cell_type": "markdown",
      "metadata": {
        "id": "view-in-github",
        "colab_type": "text"
      },
      "source": [
        "<a href=\"https://colab.research.google.com/github/Yuvanthica/WOMEN-WHO-CODE-CHALLENGE/blob/main/WWC_DAY9.ipynb\" target=\"_parent\"><img src=\"https://colab.research.google.com/assets/colab-badge.svg\" alt=\"Open In Colab\"/></a>"
      ]
    },
    {
      "cell_type": "markdown",
      "source": [
        "Write a program to check if a number is even or odd."
      ],
      "metadata": {
        "id": "fGLjcYT93-uc"
      }
    },
    {
      "cell_type": "code",
      "execution_count": 7,
      "metadata": {
        "id": "M2KZAjAv37qs"
      },
      "outputs": [],
      "source": [
        "def check_o_e(num):\n",
        "  if num %2 == 0 and num !=0 :\n",
        "    print(\"The given number is even\")\n",
        "  elif num%2 == 1:\n",
        "    print(\"The given number is odd\")\n",
        "  else:\n",
        "    print(\"The given number is zero\")\n"
      ]
    },
    {
      "cell_type": "code",
      "source": [
        "check_o_e(89)"
      ],
      "metadata": {
        "colab": {
          "base_uri": "https://localhost:8080/"
        },
        "id": "ZD1VgYMd4W5T",
        "outputId": "2efa00e3-a610-4d76-e853-19da96f1dacc"
      },
      "execution_count": 8,
      "outputs": [
        {
          "output_type": "stream",
          "name": "stdout",
          "text": [
            "The given number is odd\n"
          ]
        }
      ]
    },
    {
      "cell_type": "code",
      "source": [
        "check_o_e(0)"
      ],
      "metadata": {
        "colab": {
          "base_uri": "https://localhost:8080/"
        },
        "id": "U4HYSKuN4m30",
        "outputId": "345e8c47-c6ca-4c6e-80f3-f54a1e99bb60"
      },
      "execution_count": 9,
      "outputs": [
        {
          "output_type": "stream",
          "name": "stdout",
          "text": [
            "The given number is zero\n"
          ]
        }
      ]
    }
  ]
}