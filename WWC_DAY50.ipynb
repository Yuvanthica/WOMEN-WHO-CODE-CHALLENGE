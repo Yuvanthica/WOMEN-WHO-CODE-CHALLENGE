{
  "nbformat": 4,
  "nbformat_minor": 0,
  "metadata": {
    "colab": {
      "provenance": [],
      "authorship_tag": "ABX9TyMF89ENA37P7Y6RWKySOUeX",
      "include_colab_link": true
    },
    "kernelspec": {
      "name": "python3",
      "display_name": "Python 3"
    },
    "language_info": {
      "name": "python"
    }
  },
  "cells": [
    {
      "cell_type": "markdown",
      "metadata": {
        "id": "view-in-github",
        "colab_type": "text"
      },
      "source": [
        "<a href=\"https://colab.research.google.com/github/Yuvanthica/WOMEN-WHO-CODE-CHALLENGE/blob/main/WWC_DAY50.ipynb\" target=\"_parent\"><img src=\"https://colab.research.google.com/assets/colab-badge.svg\" alt=\"Open In Colab\"/></a>"
      ]
    },
    {
      "cell_type": "markdown",
      "source": [
        "Create a program that finds the intersection and union of two sets"
      ],
      "metadata": {
        "id": "LM2-vS-5F7dR"
      }
    },
    {
      "cell_type": "code",
      "source": [
        "set1 = {1, 2, 3, 4, 5}\n",
        "set2= {4, 5, 6, 7, 8}"
      ],
      "metadata": {
        "id": "Mxm_WxYqGXAR"
      },
      "execution_count": 2,
      "outputs": []
    },
    {
      "cell_type": "code",
      "execution_count": 7,
      "metadata": {
        "id": "4zyjQ2mIF4po"
      },
      "outputs": [],
      "source": [
        "def int_un(set1,set2):\n",
        "  inter = set1.intersection(set2)\n",
        "  union = set1.union(set2)\n",
        "  return (inter,union)"
      ]
    },
    {
      "cell_type": "code",
      "source": [
        "print(int_un(set1,set2))"
      ],
      "metadata": {
        "colab": {
          "base_uri": "https://localhost:8080/"
        },
        "id": "v_fX-uenGPtu",
        "outputId": "9a1a8a0c-a920-4411-c9fd-bdf5aab9379e"
      },
      "execution_count": 8,
      "outputs": [
        {
          "output_type": "stream",
          "name": "stdout",
          "text": [
            "({4, 5}, {1, 2, 3, 4, 5, 6, 7, 8})\n"
          ]
        }
      ]
    }
  ]
}