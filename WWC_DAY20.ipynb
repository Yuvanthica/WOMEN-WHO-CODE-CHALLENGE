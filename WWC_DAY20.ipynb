{
  "nbformat": 4,
  "nbformat_minor": 0,
  "metadata": {
    "colab": {
      "provenance": [],
      "authorship_tag": "ABX9TyNioL/e9GTpUZxnYHJKumGg",
      "include_colab_link": true
    },
    "kernelspec": {
      "name": "python3",
      "display_name": "Python 3"
    },
    "language_info": {
      "name": "python"
    }
  },
  "cells": [
    {
      "cell_type": "markdown",
      "metadata": {
        "id": "view-in-github",
        "colab_type": "text"
      },
      "source": [
        "<a href=\"https://colab.research.google.com/github/Yuvanthica/WOMEN-WHO-CODE-CHALLENGE/blob/main/WWC_DAY20.ipynb\" target=\"_parent\"><img src=\"https://colab.research.google.com/assets/colab-badge.svg\" alt=\"Open In Colab\"/></a>"
      ]
    },
    {
      "cell_type": "markdown",
      "source": [
        "**Write a function that takes a list of numbers and returns a new list containing only the even numbers.**"
      ],
      "metadata": {
        "id": "_XTsK8vPcyfM"
      }
    },
    {
      "cell_type": "code",
      "execution_count": 1,
      "metadata": {
        "id": "MIwrABt2cv57"
      },
      "outputs": [],
      "source": [
        "lst = [2,5,7,9,10,11,16]"
      ]
    },
    {
      "cell_type": "code",
      "source": [
        "def even_list(lst):\n",
        "  lst1 = []\n",
        "  for i in range(0,len(lst)):\n",
        "      if lst[i]%2==0 :\n",
        "        lst1.append(lst[i])\n",
        "  return lst1"
      ],
      "metadata": {
        "id": "HSTEM2Jac5xd"
      },
      "execution_count": 24,
      "outputs": []
    },
    {
      "cell_type": "code",
      "source": [
        "even_list(lst)"
      ],
      "metadata": {
        "colab": {
          "base_uri": "https://localhost:8080/"
        },
        "id": "oETnpiTjdGsF",
        "outputId": "6623b363-eff2-458f-8ebd-0d0936504845"
      },
      "execution_count": 25,
      "outputs": [
        {
          "output_type": "execute_result",
          "data": {
            "text/plain": [
              "[2, 10, 16]"
            ]
          },
          "metadata": {},
          "execution_count": 25
        }
      ]
    }
  ]
}