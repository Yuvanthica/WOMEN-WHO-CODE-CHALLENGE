{
  "nbformat": 4,
  "nbformat_minor": 0,
  "metadata": {
    "colab": {
      "provenance": [],
      "authorship_tag": "ABX9TyOi7gvn8ArV7eBPWM5kx4ld",
      "include_colab_link": true
    },
    "kernelspec": {
      "name": "python3",
      "display_name": "Python 3"
    },
    "language_info": {
      "name": "python"
    }
  },
  "cells": [
    {
      "cell_type": "markdown",
      "metadata": {
        "id": "view-in-github",
        "colab_type": "text"
      },
      "source": [
        "<a href=\"https://colab.research.google.com/github/Yuvanthica/WOMEN-WHO-CODE-CHALLENGE/blob/main/WWC_DAY23.ipynb\" target=\"_parent\"><img src=\"https://colab.research.google.com/assets/colab-badge.svg\" alt=\"Open In Colab\"/></a>"
      ]
    },
    {
      "cell_type": "markdown",
      "source": [
        "Write a program that checks if a key exists in a dictionary"
      ],
      "metadata": {
        "id": "_Ve233Q_4R39"
      }
    },
    {
      "cell_type": "code",
      "execution_count": 1,
      "metadata": {
        "id": "aYYSj7mU4NAU"
      },
      "outputs": [],
      "source": [
        "diction = {1:\"Python\",2:\"R\",3:\"JAVA\",4:\"SAS\"}"
      ]
    },
    {
      "cell_type": "code",
      "source": [
        "key = 5"
      ],
      "metadata": {
        "id": "QoJyanu840pa"
      },
      "execution_count": 4,
      "outputs": []
    },
    {
      "cell_type": "code",
      "source": [
        "if key in diction :\n",
        "  print(\"The key is in the dictionary\")\n",
        "else:\n",
        "    print(\"The key is not in the dictionary\")"
      ],
      "metadata": {
        "colab": {
          "base_uri": "https://localhost:8080/"
        },
        "id": "6kRmpVjU4kkr",
        "outputId": "8a3af15f-3bb5-4ba8-94a7-5f041fcb8fbd"
      },
      "execution_count": 5,
      "outputs": [
        {
          "output_type": "stream",
          "name": "stdout",
          "text": [
            "The key is not in the dictionary\n"
          ]
        }
      ]
    },
    {
      "cell_type": "code",
      "source": [
        "def dic_key(key,dictionary):\n",
        "  if key in diction :\n",
        "    print(\"The key is in the dictionary\")\n",
        "  else:\n",
        "      print(\"The key is not in the dictionary\")"
      ],
      "metadata": {
        "id": "WaX7Bbez45lJ"
      },
      "execution_count": 8,
      "outputs": []
    },
    {
      "cell_type": "code",
      "source": [
        "dic_key(3,diction)"
      ],
      "metadata": {
        "colab": {
          "base_uri": "https://localhost:8080/"
        },
        "id": "ernk1htV5AB5",
        "outputId": "041ac2c3-6a1a-4a51-ae21-e9865f9ec709"
      },
      "execution_count": 9,
      "outputs": [
        {
          "output_type": "stream",
          "name": "stdout",
          "text": [
            "The key is in the dictionary\n"
          ]
        }
      ]
    },
    {
      "cell_type": "code",
      "source": [],
      "metadata": {
        "id": "9wRdWBX95IO-"
      },
      "execution_count": null,
      "outputs": []
    }
  ]
}