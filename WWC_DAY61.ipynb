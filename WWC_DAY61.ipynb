{
  "nbformat": 4,
  "nbformat_minor": 0,
  "metadata": {
    "colab": {
      "provenance": [],
      "authorship_tag": "ABX9TyPNV0gZsFHFhrY2P3PfxUWB",
      "include_colab_link": true
    },
    "kernelspec": {
      "name": "python3",
      "display_name": "Python 3"
    },
    "language_info": {
      "name": "python"
    }
  },
  "cells": [
    {
      "cell_type": "markdown",
      "metadata": {
        "id": "view-in-github",
        "colab_type": "text"
      },
      "source": [
        "<a href=\"https://colab.research.google.com/github/Yuvanthica/WOMEN-WHO-CODE-CHALLENGE/blob/main/WWC_DAY61.ipynb\" target=\"_parent\"><img src=\"https://colab.research.google.com/assets/colab-badge.svg\" alt=\"Open In Colab\"/></a>"
      ]
    },
    {
      "cell_type": "markdown",
      "source": [
        "\n",
        "Create a program to implement a stack using a list\n"
      ],
      "metadata": {
        "id": "zs4z80OIFCQ7"
      }
    },
    {
      "cell_type": "code",
      "execution_count": 1,
      "metadata": {
        "id": "bc4FZk-nD9j2",
        "colab": {
          "base_uri": "https://localhost:8080/"
        },
        "outputId": "0cd9c223-2ad7-4014-8670-f0a3c22a0322"
      },
      "outputs": [
        {
          "output_type": "stream",
          "name": "stdout",
          "text": [
            "Stack: ['a', 'b', 'c']\n",
            "Number of items in stack 3\n",
            "The top value in the stack is: c\n",
            "Value removed from Stack: c\n",
            "Remaining elements in Stack are: ['a', 'b']\n"
          ]
        }
      ],
      "source": [
        "class Stack:\n",
        "    def __init__(self):\n",
        "        self.items = []\n",
        "\n",
        "    def is_empty(self):\n",
        "        return len(self.items) == 0\n",
        "\n",
        "    def push(self, item):\n",
        "        self.items.append(item)\n",
        "\n",
        "    def pop(self):\n",
        "        if not self.is_empty():\n",
        "            return self.items.pop()\n",
        "        else:\n",
        "            print(\"Stack is empty\")\n",
        "\n",
        "    def peek(self):\n",
        "        if not self.is_empty():\n",
        "            return self.items[-1]\n",
        "        else:\n",
        "            print(\"Stack is empty\")\n",
        "\n",
        "    def size(self):\n",
        "        return len(self.items)\n",
        "\n",
        "\n",
        "# Example usage:\n",
        "if __name__ == \"__main__\":\n",
        "    stack = Stack()\n",
        "\n",
        "    stack.push(\"a\")\n",
        "    stack.push(\"b\")\n",
        "    stack.push(\"c\")\n",
        "\n",
        "    print(\"Stack:\", stack.items)\n",
        "    print(\"Number of items in stack\", stack.size())\n",
        "    print(\"The top value in the stack is:\", stack.peek())\n",
        "\n",
        "    value_popped = stack.pop()\n",
        "    print(\"Value removed from Stack:\", value_popped)\n",
        "    print(\"Remaining elements in Stack are:\", stack.items)"
      ]
    }
  ]
}