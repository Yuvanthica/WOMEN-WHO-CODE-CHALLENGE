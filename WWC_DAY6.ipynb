{
  "nbformat": 4,
  "nbformat_minor": 0,
  "metadata": {
    "colab": {
      "provenance": [],
      "authorship_tag": "ABX9TyN19McGm4Q/vX+ykiZTtQgi",
      "include_colab_link": true
    },
    "kernelspec": {
      "name": "python3",
      "display_name": "Python 3"
    },
    "language_info": {
      "name": "python"
    }
  },
  "cells": [
    {
      "cell_type": "markdown",
      "metadata": {
        "id": "view-in-github",
        "colab_type": "text"
      },
      "source": [
        "<a href=\"https://colab.research.google.com/github/Yuvanthica/WOMEN-WHO-CODE-CHALLENGE/blob/main/WWC_DAY6.ipynb\" target=\"_parent\"><img src=\"https://colab.research.google.com/assets/colab-badge.svg\" alt=\"Open In Colab\"/></a>"
      ]
    },
    {
      "cell_type": "markdown",
      "source": [
        "Count the occurences of a specific characer in a string"
      ],
      "metadata": {
        "id": "NaWKgykflmrE"
      }
    },
    {
      "cell_type": "code",
      "execution_count": 15,
      "metadata": {
        "id": "oBzHYD7klkmc"
      },
      "outputs": [],
      "source": [
        "def chr_cnt(str,char):\n",
        "   cnt = 0\n",
        "   for i in str.lower():\n",
        "      if i == char.lower():\n",
        "        cnt+=1\n",
        "   return cnt"
      ]
    },
    {
      "cell_type": "code",
      "source": [
        "chr_cnt(\"QUeuE\",\"U\")"
      ],
      "metadata": {
        "colab": {
          "base_uri": "https://localhost:8080/"
        },
        "id": "OjnBtR5_ncbE",
        "outputId": "39a30f9c-bdc2-4594-9333-138d6194e152"
      },
      "execution_count": 19,
      "outputs": [
        {
          "output_type": "execute_result",
          "data": {
            "text/plain": [
              "2"
            ]
          },
          "metadata": {},
          "execution_count": 19
        }
      ]
    }
  ]
}