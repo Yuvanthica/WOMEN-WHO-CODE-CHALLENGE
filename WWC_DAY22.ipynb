{
  "nbformat": 4,
  "nbformat_minor": 0,
  "metadata": {
    "colab": {
      "provenance": [],
      "authorship_tag": "ABX9TyOm4CUuOKoQ/82ICho0kC+P",
      "include_colab_link": true
    },
    "kernelspec": {
      "name": "python3",
      "display_name": "Python 3"
    },
    "language_info": {
      "name": "python"
    }
  },
  "cells": [
    {
      "cell_type": "markdown",
      "metadata": {
        "id": "view-in-github",
        "colab_type": "text"
      },
      "source": [
        "<a href=\"https://colab.research.google.com/github/Yuvanthica/WOMEN-WHO-CODE-CHALLENGE/blob/main/WWC_DAY22.ipynb\" target=\"_parent\"><img src=\"https://colab.research.google.com/assets/colab-badge.svg\" alt=\"Open In Colab\"/></a>"
      ]
    },
    {
      "cell_type": "markdown",
      "source": [
        "**Create a program to find the second-largest element in a list.**"
      ],
      "metadata": {
        "id": "5CJpmzXGMpq1"
      }
    },
    {
      "cell_type": "code",
      "execution_count": 34,
      "metadata": {
        "id": "5ywJqB92MmaT"
      },
      "outputs": [],
      "source": [
        "lst= [2,56,12,3,8,90]"
      ]
    },
    {
      "cell_type": "code",
      "source": [
        "def re_sl(lst1):\n",
        "  new_list= lst1\n",
        "  print(\"The second maximum in the list is \", new_list[1])"
      ],
      "metadata": {
        "id": "RdZNWv7YPoIM"
      },
      "execution_count": 44,
      "outputs": []
    },
    {
      "cell_type": "code",
      "source": [
        "\n",
        "def re_lst(lst):\n",
        "    lst.sort(reverse=True)\n",
        "    return re_sl(lst)\n",
        ""
      ],
      "metadata": {
        "id": "oPsx_S-2M0Or"
      },
      "execution_count": 45,
      "outputs": []
    },
    {
      "cell_type": "code",
      "source": [
        "re_lst(lst)"
      ],
      "metadata": {
        "colab": {
          "base_uri": "https://localhost:8080/"
        },
        "id": "DzwZNNDoNQGF",
        "outputId": "e83a5fe9-4f33-4f61-8aca-5a4a911184b4"
      },
      "execution_count": 46,
      "outputs": [
        {
          "output_type": "stream",
          "name": "stdout",
          "text": [
            "The second maximum in the list is  56\n"
          ]
        }
      ]
    }
  ]
}