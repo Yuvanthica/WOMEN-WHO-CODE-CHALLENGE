{
  "nbformat": 4,
  "nbformat_minor": 0,
  "metadata": {
    "colab": {
      "provenance": [],
      "authorship_tag": "ABX9TyOOjuArTSvRNhTx3+c8V3OY",
      "include_colab_link": true
    },
    "kernelspec": {
      "name": "python3",
      "display_name": "Python 3"
    },
    "language_info": {
      "name": "python"
    }
  },
  "cells": [
    {
      "cell_type": "markdown",
      "metadata": {
        "id": "view-in-github",
        "colab_type": "text"
      },
      "source": [
        "<a href=\"https://colab.research.google.com/github/Yuvanthica/WOMEN-WHO-CODE-CHALLENGE/blob/main/WWC_DAY8.ipynb\" target=\"_parent\"><img src=\"https://colab.research.google.com/assets/colab-badge.svg\" alt=\"Open In Colab\"/></a>"
      ]
    },
    {
      "cell_type": "markdown",
      "source": [
        "Write a function that accepts a string and calculates the number of uppercase and lowercase letters in it."
      ],
      "metadata": {
        "id": "PV8VbRb5OdLr"
      }
    },
    {
      "cell_type": "code",
      "source": [
        "str = \"YuvanthiCA\""
      ],
      "metadata": {
        "id": "HFe5Kz4STaZu"
      },
      "execution_count": 27,
      "outputs": []
    },
    {
      "cell_type": "code",
      "source": [
        "\n",
        "cnt_lo = 0\n",
        "cnt_up = 0\n",
        "for i in str:\n",
        "    if i.isupper():\n",
        "      cnt_up +=1\n",
        "    elif i.islower() :\n",
        "      cnt_lo +=1\n",
        "print(f\"lowercase letters are {cnt_lo} and uppercase letters are {cnt_up} in the {str}\")"
      ],
      "metadata": {
        "colab": {
          "base_uri": "https://localhost:8080/"
        },
        "id": "H-1greVzST8R",
        "outputId": "5cea68f4-91dc-4017-9a97-ea45c08ba8eb"
      },
      "execution_count": 38,
      "outputs": [
        {
          "output_type": "stream",
          "name": "stdout",
          "text": [
            "lowercase letters are 7 and uppercase letters are 3 in the YuvanthiCA\n"
          ]
        }
      ]
    },
    {
      "cell_type": "code",
      "source": [
        "def str_cnt(string):\n",
        "  cnt_lower = 0\n",
        "  cnt_upper = 0\n",
        "  for i in string:\n",
        "      if i.isupper():\n",
        "        cnt_upper +=1\n",
        "      elif i.islower() :\n",
        "        cnt_lower +=1\n",
        "  print(f\"lowercase letters are {cnt_lower} and uppercase letters are {cnt_upper} in the {string}\")"
      ],
      "metadata": {
        "id": "tcvDzJimUJWb"
      },
      "execution_count": 49,
      "outputs": []
    }
  ]
}