{
  "nbformat": 4,
  "nbformat_minor": 0,
  "metadata": {
    "colab": {
      "provenance": [],
      "authorship_tag": "ABX9TyM7gBngpNmINs/nXmBMFlxx",
      "include_colab_link": true
    },
    "kernelspec": {
      "name": "python3",
      "display_name": "Python 3"
    },
    "language_info": {
      "name": "python"
    }
  },
  "cells": [
    {
      "cell_type": "markdown",
      "metadata": {
        "id": "view-in-github",
        "colab_type": "text"
      },
      "source": [
        "<a href=\"https://colab.research.google.com/github/Yuvanthica/WOMEN-WHO-CODE-CHALLENGE/blob/main/WWC_DAY60.ipynb\" target=\"_parent\"><img src=\"https://colab.research.google.com/assets/colab-badge.svg\" alt=\"Open In Colab\"/></a>"
      ]
    },
    {
      "cell_type": "markdown",
      "source": [
        "Create a class representing a simple bank account with deposit and withdraw methods"
      ],
      "metadata": {
        "id": "JoSCqAxPA_YP"
      }
    },
    {
      "cell_type": "code",
      "execution_count": 4,
      "metadata": {
        "colab": {
          "base_uri": "https://localhost:8080/"
        },
        "id": "r-TqnCN28SI9",
        "outputId": "df532705-eb89-4648-90ec-0ebf0f7a9474"
      },
      "outputs": [
        {
          "output_type": "stream",
          "name": "stdout",
          "text": [
            "Customer Details:\n",
            "Name: Yuvanthica Sabapathy\n",
            "Account Number: 2345\n",
            "Date of opening: 01-02-2012\n",
            "Balance: $1010\n",
            "\n",
            "Name: Yogalakshmi Srinivasan\n",
            "Account Number: 1234\n",
            "Date of opening: 11-03-2013\n",
            "Balance: $2020\n",
            "\n",
            "Name: Rajashree Rajasekhar\n",
            "Account Number: 2312\n",
            "Date of opening: 12-04-2014\n",
            "Balance: $3030\n",
            "\n",
            "Name: Kirupashini Devanand\n",
            "Account Number: 1395\n",
            "Date of opening: 01-05-2015\n",
            "Balance: $3040\n",
            "\n",
            "Name: Sangamithra Ranjith\n",
            "Account Number: 6345\n",
            "Date of opening: 09-06-2023\n",
            "Balance: $4050\n",
            "\n",
            "=============================\n",
            "Name: Kirupashini Devanand\n",
            "Account Number: 1395\n",
            "Date of opening: 01-05-2015\n",
            "Balance: $3040\n",
            "\n",
            "$1000 has been deposited in your account.\n",
            "Current balance is $4040.\n",
            "Insufficient balance.\n",
            "$3400 has been withdrawn from your account.\n",
            "Current balance is $640.\n"
          ]
        }
      ],
      "source": [
        "class BankAccount:\n",
        "    def __init__(self, account_number, date_of_opening, balance, customer_name):\n",
        "        self.account_number = account_number\n",
        "        self.date_of_opening  = date_of_opening\n",
        "        self.balance = balance\n",
        "        self.customer_name = customer_name\n",
        "\n",
        "    def deposit(self, amount):\n",
        "        self.balance += amount\n",
        "        print(f\"${amount} has been deposited in your account.\")\n",
        "\n",
        "    def withdraw(self, amount):\n",
        "        if amount > self.balance:\n",
        "            print(\"Insufficient balance.\")\n",
        "        else:\n",
        "            self.balance -= amount\n",
        "            print(f\"${amount} has been withdrawn from your account.\")\n",
        "\n",
        "    def check_balance(self):\n",
        "        print(f\"Current balance is ${self.balance}.\")\n",
        "\n",
        "    def print_customer_details(self):\n",
        "        print(\"Name:\", self.customer_name)\n",
        "        print(\"Account Number:\", self.account_number)\n",
        "        print(\"Date of opening:\", self.date_of_opening)\n",
        "        print(f\"Balance: ${self.balance}\\n\")\n",
        "\n",
        "# Input customer details\n",
        "ac_no_1 = BankAccount(2345, \"01-02-2012\", 1010, \"Yuvanthica Sabapathy\")\n",
        "ac_no_2 = BankAccount(1234, \"11-03-2013\", 2020, \"Yogalakshmi Srinivasan\")\n",
        "ac_no_3 = BankAccount(2312, \"12-04-2014\", 3030, \"Rajashree Rajasekhar\")\n",
        "ac_no_4 = BankAccount(1395, \"01-05-2015\", 3040, \"Kirupashini Devanand\")\n",
        "ac_no_5 = BankAccount(6345, \"09-06-2023\", 4050, \"Sangamithra Ranjith\")\n",
        "\n",
        "print(\"Customer Details:\")\n",
        "ac_no_1.print_customer_details()\n",
        "ac_no_2.print_customer_details()\n",
        "ac_no_3.print_customer_details()\n",
        "ac_no_4.print_customer_details()\n",
        "ac_no_5.print_customer_details()\n",
        "\n",
        "print(\"=============================\")\n",
        "ac_no_4.print_customer_details()\n",
        "ac_no_4.deposit(1000)\n",
        "ac_no_4.check_balance()\n",
        "ac_no_4.withdraw(5000)\n",
        "ac_no_4.withdraw(3400)\n",
        "ac_no_4.check_balance()"
      ]
    },
    {
      "cell_type": "code",
      "source": [],
      "metadata": {
        "id": "Y3_ih0eWDSar"
      },
      "execution_count": null,
      "outputs": []
    }
  ]
}