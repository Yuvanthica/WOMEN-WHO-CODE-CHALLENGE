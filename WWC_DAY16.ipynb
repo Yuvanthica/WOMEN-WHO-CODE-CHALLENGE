{
  "nbformat": 4,
  "nbformat_minor": 0,
  "metadata": {
    "colab": {
      "provenance": [],
      "authorship_tag": "ABX9TyPGvtTm2rIQqdbB5f9hbOKS",
      "include_colab_link": true
    },
    "kernelspec": {
      "name": "python3",
      "display_name": "Python 3"
    },
    "language_info": {
      "name": "python"
    }
  },
  "cells": [
    {
      "cell_type": "markdown",
      "metadata": {
        "id": "view-in-github",
        "colab_type": "text"
      },
      "source": [
        "<a href=\"https://colab.research.google.com/github/Yuvanthica/WOMEN-WHO-CODE-CHALLENGE/blob/main/WWC_DAY16.ipynb\" target=\"_parent\"><img src=\"https://colab.research.google.com/assets/colab-badge.svg\" alt=\"Open In Colab\"/></a>"
      ]
    },
    {
      "cell_type": "markdown",
      "source": [
        "**Write a function that counts the frequency of each word in a sentence.**"
      ],
      "metadata": {
        "id": "-vIcJMpZi_74"
      }
    },
    {
      "cell_type": "code",
      "source": [
        "from collections import Counter"
      ],
      "metadata": {
        "id": "jDLTearzly8x"
      },
      "execution_count": 3,
      "outputs": []
    },
    {
      "cell_type": "code",
      "source": [
        "sent = \"I like programming . I love to code\""
      ],
      "metadata": {
        "id": "MPagTvdYlaQK"
      },
      "execution_count": 1,
      "outputs": []
    },
    {
      "cell_type": "code",
      "source": [
        "sentl = sent.split()\n"
      ],
      "metadata": {
        "id": "JWfliTiUlf_7"
      },
      "execution_count": 2,
      "outputs": []
    },
    {
      "cell_type": "code",
      "source": [
        "freq = Counter(sentl)"
      ],
      "metadata": {
        "id": "by7xW3WnlpA_"
      },
      "execution_count": 4,
      "outputs": []
    },
    {
      "cell_type": "code",
      "source": [
        "for word in freq:\n",
        "  print(f\"The frequency {word} is \",freq[word])"
      ],
      "metadata": {
        "colab": {
          "base_uri": "https://localhost:8080/"
        },
        "id": "RhuVC7DNmA7G",
        "outputId": "4e339b17-1de8-475b-cb9f-d21d8bae96bf"
      },
      "execution_count": 6,
      "outputs": [
        {
          "output_type": "stream",
          "name": "stdout",
          "text": [
            "The frequency I is  2\n",
            "The frequency like is  1\n",
            "The frequency programming is  1\n",
            "The frequency . is  1\n",
            "The frequency love is  1\n",
            "The frequency to is  1\n",
            "The frequency code is  1\n"
          ]
        }
      ]
    },
    {
      "cell_type": "code",
      "source": [
        "def sent_count(sent):\n",
        "  sentl = sent.lower().split()\n",
        "  freq = Counter(sentl)\n",
        "  for word in freq:\n",
        "    print(f\"The frequency {word} is \",freq[word])"
      ],
      "metadata": {
        "id": "yY3CxYf1m7sv"
      },
      "execution_count": 13,
      "outputs": []
    },
    {
      "cell_type": "code",
      "source": [
        "sent_count(\"The apples are kept on the table.\")"
      ],
      "metadata": {
        "colab": {
          "base_uri": "https://localhost:8080/"
        },
        "id": "YFeiTzM4nvDD",
        "outputId": "921e2002-f445-43c6-a581-37d11ba90770"
      },
      "execution_count": 14,
      "outputs": [
        {
          "output_type": "stream",
          "name": "stdout",
          "text": [
            "The frequency the is  2\n",
            "The frequency apples is  1\n",
            "The frequency are is  1\n",
            "The frequency kept is  1\n",
            "The frequency on is  1\n",
            "The frequency table. is  1\n"
          ]
        }
      ]
    }
  ]
}