{
  "nbformat": 4,
  "nbformat_minor": 0,
  "metadata": {
    "colab": {
      "provenance": [],
      "authorship_tag": "ABX9TyOkGyWIGIj3WDMWoPGlUWeG",
      "include_colab_link": true
    },
    "kernelspec": {
      "name": "python3",
      "display_name": "Python 3"
    },
    "language_info": {
      "name": "python"
    }
  },
  "cells": [
    {
      "cell_type": "markdown",
      "metadata": {
        "id": "view-in-github",
        "colab_type": "text"
      },
      "source": [
        "<a href=\"https://colab.research.google.com/github/Yuvanthica/WOMEN-WHO-CODE-CHALLENGE/blob/main/WWC_DAY42.ipynb\" target=\"_parent\"><img src=\"https://colab.research.google.com/assets/colab-badge.svg\" alt=\"Open In Colab\"/></a>"
      ]
    },
    {
      "cell_type": "markdown",
      "source": [
        "Write a program that uses a try-except block to handle division by zero\n",
        "\n"
      ],
      "metadata": {
        "id": "Uqs_IFIerLbx"
      }
    },
    {
      "cell_type": "code",
      "execution_count": 5,
      "metadata": {
        "id": "tCbl54KprG9y"
      },
      "outputs": [],
      "source": [
        "def div_zero(x,y):\n",
        "  try:\n",
        "    return x/y\n",
        "  except (ZeroDivisionError,ValueError):\n",
        "    print(\"The division by zero is not allowed and enter number greater than zero\")"
      ]
    },
    {
      "cell_type": "code",
      "source": [
        "div_zero(3,0)"
      ],
      "metadata": {
        "colab": {
          "base_uri": "https://localhost:8080/"
        },
        "id": "mwZV2Jb9s4md",
        "outputId": "294179ec-d76e-4b24-c3e4-d23778635375"
      },
      "execution_count": 7,
      "outputs": [
        {
          "output_type": "stream",
          "name": "stdout",
          "text": [
            "The division by zero is not allowed and enter number greater than zero\n"
          ]
        }
      ]
    }
  ]
}