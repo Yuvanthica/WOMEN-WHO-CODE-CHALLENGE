{
  "nbformat": 4,
  "nbformat_minor": 0,
  "metadata": {
    "colab": {
      "provenance": [],
      "authorship_tag": "ABX9TyO72PdH6pOemfuwrCrfzCgT",
      "include_colab_link": true
    },
    "kernelspec": {
      "name": "python3",
      "display_name": "Python 3"
    },
    "language_info": {
      "name": "python"
    }
  },
  "cells": [
    {
      "cell_type": "markdown",
      "metadata": {
        "id": "view-in-github",
        "colab_type": "text"
      },
      "source": [
        "<a href=\"https://colab.research.google.com/github/Yuvanthica/WOMEN-WHO-CODE-CHALLENGE/blob/main/WWC_DAY15.ipynb\" target=\"_parent\"><img src=\"https://colab.research.google.com/assets/colab-badge.svg\" alt=\"Open In Colab\"/></a>"
      ]
    },
    {
      "cell_type": "markdown",
      "source": [
        "**Create a program that checks if a year is a leap year.**"
      ],
      "metadata": {
        "id": "sg5wV1OUtwNs"
      }
    },
    {
      "cell_type": "code",
      "execution_count": 17,
      "metadata": {
        "id": "ipX90X7rtZ_9"
      },
      "outputs": [],
      "source": [
        "\n",
        "def check_leap(year):\n",
        "  if (year%4 ==0 and year% 100 !=0 )or  year % 400 ==0:\n",
        "    print(f\"{year} is a leap year\")\n",
        "  else :\n",
        "    print(f\"{year} is not a leap year\")"
      ]
    },
    {
      "cell_type": "code",
      "source": [
        "check_leap(2024)"
      ],
      "metadata": {
        "colab": {
          "base_uri": "https://localhost:8080/"
        },
        "id": "fcq6d4ToujuK",
        "outputId": "b4550014-4bcb-44d7-e3bd-1f87200fd270"
      },
      "execution_count": 20,
      "outputs": [
        {
          "output_type": "stream",
          "name": "stdout",
          "text": [
            "2024 is a leap year\n"
          ]
        }
      ]
    }
  ]
}