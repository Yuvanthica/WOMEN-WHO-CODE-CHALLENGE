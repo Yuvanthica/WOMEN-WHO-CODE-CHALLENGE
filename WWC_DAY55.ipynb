{
  "nbformat": 4,
  "nbformat_minor": 0,
  "metadata": {
    "colab": {
      "provenance": [],
      "authorship_tag": "ABX9TyMh35QYvDT2x3KbeBj1BSZY",
      "include_colab_link": true
    },
    "kernelspec": {
      "name": "python3",
      "display_name": "Python 3"
    },
    "language_info": {
      "name": "python"
    }
  },
  "cells": [
    {
      "cell_type": "markdown",
      "metadata": {
        "id": "view-in-github",
        "colab_type": "text"
      },
      "source": [
        "<a href=\"https://colab.research.google.com/github/Yuvanthica/WOMEN-WHO-CODE-CHALLENGE/blob/main/WWC_DAY55.ipynb\" target=\"_parent\"><img src=\"https://colab.research.google.com/assets/colab-badge.svg\" alt=\"Open In Colab\"/></a>"
      ]
    },
    {
      "cell_type": "markdown",
      "source": [
        "Create a function that takes a string and returns the reverse of each word"
      ],
      "metadata": {
        "id": "RsFCkU-EE1Ge"
      }
    },
    {
      "cell_type": "code",
      "execution_count": 1,
      "metadata": {
        "id": "0yxxCyuNDZI_"
      },
      "outputs": [],
      "source": [
        "def reverse_word(sentence):\n",
        "   rev_words = []\n",
        "   sent= sentence.lower().split()\n",
        "   for ele in sent:\n",
        "    rev_words.append(ele[::-1])\n",
        "   return rev_words"
      ]
    },
    {
      "cell_type": "code",
      "source": [
        "reverse_word(\"She is a good programmer\")"
      ],
      "metadata": {
        "colab": {
          "base_uri": "https://localhost:8080/"
        },
        "id": "rMvQnmNyGpI_",
        "outputId": "1a0cb839-d533-4de2-e0fc-c15f08473bc1"
      },
      "execution_count": 2,
      "outputs": [
        {
          "output_type": "execute_result",
          "data": {
            "text/plain": [
              "['ehs', 'si', 'a', 'doog', 'remmargorp']"
            ]
          },
          "metadata": {},
          "execution_count": 2
        }
      ]
    }
  ]
}