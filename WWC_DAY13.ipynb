{
  "nbformat": 4,
  "nbformat_minor": 0,
  "metadata": {
    "colab": {
      "provenance": [],
      "authorship_tag": "ABX9TyPZ9gTWD0rrlY727ghlj+Hn",
      "include_colab_link": true
    },
    "kernelspec": {
      "name": "python3",
      "display_name": "Python 3"
    },
    "language_info": {
      "name": "python"
    }
  },
  "cells": [
    {
      "cell_type": "markdown",
      "metadata": {
        "id": "view-in-github",
        "colab_type": "text"
      },
      "source": [
        "<a href=\"https://colab.research.google.com/github/Yuvanthica/WOMEN-WHO-CODE-CHALLENGE/blob/main/WWC_DAY13.ipynb\" target=\"_parent\"><img src=\"https://colab.research.google.com/assets/colab-badge.svg\" alt=\"Open In Colab\"/></a>"
      ]
    },
    {
      "cell_type": "markdown",
      "source": [
        "Write a program to shuffle the elements of a list randomly."
      ],
      "metadata": {
        "id": "1RnsBWWzVHlA"
      }
    },
    {
      "cell_type": "code",
      "source": [
        "import random"
      ],
      "metadata": {
        "id": "BajLpa6yVk5F"
      },
      "execution_count": 13,
      "outputs": []
    },
    {
      "cell_type": "code",
      "execution_count": 17,
      "metadata": {
        "id": "ZQEGqK9KVFIS"
      },
      "outputs": [],
      "source": [
        "lst = [1,2,34,5,6,98]\n",
        "random.shuffle(lst)"
      ]
    },
    {
      "cell_type": "code",
      "source": [
        "print(lst)"
      ],
      "metadata": {
        "colab": {
          "base_uri": "https://localhost:8080/"
        },
        "id": "pR74eZftVVTU",
        "outputId": "1212324e-5666-4d4a-f79d-108c76fe43a3"
      },
      "execution_count": 18,
      "outputs": [
        {
          "output_type": "stream",
          "name": "stdout",
          "text": [
            "[34, 6, 98, 2, 1, 5]\n"
          ]
        }
      ]
    },
    {
      "cell_type": "code",
      "source": [
        "lst1 = sorted(lst,key = lambda x:random.random())"
      ],
      "metadata": {
        "id": "bQT2jABdWmoh"
      },
      "execution_count": 19,
      "outputs": []
    },
    {
      "cell_type": "code",
      "source": [
        "print(lst1)"
      ],
      "metadata": {
        "colab": {
          "base_uri": "https://localhost:8080/"
        },
        "id": "jSQzGeTSXXsL",
        "outputId": "f920746f-fbce-4277-efd9-d4da670d0601"
      },
      "execution_count": 21,
      "outputs": [
        {
          "output_type": "stream",
          "name": "stdout",
          "text": [
            "[2, 6, 34, 5, 1, 98]\n"
          ]
        }
      ]
    },
    {
      "cell_type": "code",
      "source": [
        "def shuffle_lst(lst):\n",
        "  print(\"The original list is \",lst)\n",
        "  random.shuffle(lst)\n",
        "  print(\"The shuffled list is \",lst)"
      ],
      "metadata": {
        "id": "s9siqrv8Xbuf"
      },
      "execution_count": 30,
      "outputs": []
    },
    {
      "cell_type": "code",
      "source": [
        "shuffle_lst(lst)"
      ],
      "metadata": {
        "colab": {
          "base_uri": "https://localhost:8080/"
        },
        "id": "cez41ylEXqUb",
        "outputId": "8a6ba17e-73a1-4663-8b75-09520310c9db"
      },
      "execution_count": 31,
      "outputs": [
        {
          "output_type": "stream",
          "name": "stdout",
          "text": [
            "The original list is  [6, 2, 34, 5, 1, 98]\n",
            "The shuffled list is  [98, 2, 1, 6, 5, 34]\n"
          ]
        }
      ]
    }
  ]
}