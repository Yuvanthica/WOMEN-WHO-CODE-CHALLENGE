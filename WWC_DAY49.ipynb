{
  "nbformat": 4,
  "nbformat_minor": 0,
  "metadata": {
    "colab": {
      "provenance": [],
      "authorship_tag": "ABX9TyMyPPv4MBblUO+ZjuV9PJmo",
      "include_colab_link": true
    },
    "kernelspec": {
      "name": "python3",
      "display_name": "Python 3"
    },
    "language_info": {
      "name": "python"
    }
  },
  "cells": [
    {
      "cell_type": "markdown",
      "metadata": {
        "id": "view-in-github",
        "colab_type": "text"
      },
      "source": [
        "<a href=\"https://colab.research.google.com/github/Yuvanthica/WOMEN-WHO-CODE-CHALLENGE/blob/main/WWC_DAY49.ipynb\" target=\"_parent\"><img src=\"https://colab.research.google.com/assets/colab-badge.svg\" alt=\"Open In Colab\"/></a>"
      ]
    },
    {
      "cell_type": "markdown",
      "source": [
        "Create a program that implements the bubble sort algorithm"
      ],
      "metadata": {
        "id": "i-Nbccwq0kYB"
      }
    },
    {
      "cell_type": "code",
      "execution_count": 19,
      "metadata": {
        "id": "0rPycOvK0Uvu"
      },
      "outputs": [],
      "source": [
        "def sort_(nums):\n",
        "  for i in range(len(nums)-1,0,-1):\n",
        "    for j in range(i):\n",
        "      if nums[j] >nums[j+1]:\n",
        "          temp = nums[j]\n",
        "          nums[j] = nums[j+1]\n",
        "          nums[j+1]=temp\n",
        "\n",
        "  return nums"
      ]
    },
    {
      "cell_type": "code",
      "source": [
        "\n",
        "nums = [5,3,8,6,7,2]\n"
      ],
      "metadata": {
        "id": "u0XCZRdJ1QRV"
      },
      "execution_count": 20,
      "outputs": []
    },
    {
      "cell_type": "code",
      "source": [
        "sort_(nums)"
      ],
      "metadata": {
        "colab": {
          "base_uri": "https://localhost:8080/"
        },
        "id": "DEY4bhXD1SaH",
        "outputId": "b62fa30e-ca8b-41a5-dcb2-c84eee66e657"
      },
      "execution_count": 21,
      "outputs": [
        {
          "output_type": "execute_result",
          "data": {
            "text/plain": [
              "[2, 3, 5, 6, 7, 8]"
            ]
          },
          "metadata": {},
          "execution_count": 21
        }
      ]
    }
  ]
}