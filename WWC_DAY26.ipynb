{
  "nbformat": 4,
  "nbformat_minor": 0,
  "metadata": {
    "colab": {
      "provenance": [],
      "authorship_tag": "ABX9TyNK1G5L5B14IuqULFMmjkIy",
      "include_colab_link": true
    },
    "kernelspec": {
      "name": "python3",
      "display_name": "Python 3"
    },
    "language_info": {
      "name": "python"
    }
  },
  "cells": [
    {
      "cell_type": "markdown",
      "metadata": {
        "id": "view-in-github",
        "colab_type": "text"
      },
      "source": [
        "<a href=\"https://colab.research.google.com/github/Yuvanthica/WOMEN-WHO-CODE-CHALLENGE/blob/main/WWC_DAY26.ipynb\" target=\"_parent\"><img src=\"https://colab.research.google.com/assets/colab-badge.svg\" alt=\"Open In Colab\"/></a>"
      ]
    },
    {
      "cell_type": "markdown",
      "source": [
        "Create a program that uses a lambda function to square each element of a list."
      ],
      "metadata": {
        "id": "e3U_3ZIwfoIp"
      }
    },
    {
      "cell_type": "code",
      "execution_count": 21,
      "metadata": {
        "id": "Dy2XJZ5Ufju7"
      },
      "outputs": [],
      "source": [
        "lst=[1,2,4,5,6,7,9,10,56]"
      ]
    },
    {
      "cell_type": "code",
      "source": [
        "new = list(map(lambda i: i**2,lst))"
      ],
      "metadata": {
        "id": "jSZg-6NFfzBo"
      },
      "execution_count": 16,
      "outputs": []
    },
    {
      "cell_type": "code",
      "source": [
        "print(new)"
      ],
      "metadata": {
        "colab": {
          "base_uri": "https://localhost:8080/"
        },
        "id": "X27roOAcgFTq",
        "outputId": "f59d7bce-ce0a-40a0-a4de-2c9337e02901"
      },
      "execution_count": 17,
      "outputs": [
        {
          "output_type": "stream",
          "name": "stdout",
          "text": [
            "[1, 4, 16, 25, 36, 49]\n"
          ]
        }
      ]
    },
    {
      "cell_type": "code",
      "source": [
        "def sqrlst(lst):\n",
        "  new_list = list(map(lambda i: i**2,lst))\n",
        "  print(new_list)"
      ],
      "metadata": {
        "id": "1_2ijTRbhdQA"
      },
      "execution_count": 22,
      "outputs": []
    },
    {
      "cell_type": "code",
      "source": [
        "sqrlst(lst)"
      ],
      "metadata": {
        "colab": {
          "base_uri": "https://localhost:8080/"
        },
        "id": "JNrswD_khnqT",
        "outputId": "e6f30991-22ad-476b-b1bb-34cf9d6712b1"
      },
      "execution_count": 23,
      "outputs": [
        {
          "output_type": "stream",
          "name": "stdout",
          "text": [
            "[1, 4, 16, 25, 36, 49, 81, 100, 3136]\n"
          ]
        }
      ]
    }
  ]
}