{
  "nbformat": 4,
  "nbformat_minor": 0,
  "metadata": {
    "colab": {
      "provenance": [],
      "authorship_tag": "ABX9TyNPnxzwAxDKSjVJRVulz8Kz",
      "include_colab_link": true
    },
    "kernelspec": {
      "name": "python3",
      "display_name": "Python 3"
    },
    "language_info": {
      "name": "python"
    }
  },
  "cells": [
    {
      "cell_type": "markdown",
      "metadata": {
        "id": "view-in-github",
        "colab_type": "text"
      },
      "source": [
        "<a href=\"https://colab.research.google.com/github/Yuvanthica/WOMEN-WHO-CODE-CHALLENGE/blob/main/WWC_CODE58.ipynb\" target=\"_parent\"><img src=\"https://colab.research.google.com/assets/colab-badge.svg\" alt=\"Open In Colab\"/></a>"
      ]
    },
    {
      "cell_type": "markdown",
      "source": [
        "Create a function that converts a string to an integer and handles ValueError"
      ],
      "metadata": {
        "id": "NtaKTRG_8WH2"
      }
    },
    {
      "cell_type": "code",
      "execution_count": 1,
      "metadata": {
        "id": "1IEQ4NkL5OOI"
      },
      "outputs": [],
      "source": [
        "def str_int():\n",
        "  try:\n",
        "    return int(input(\"Give a number\"))\n",
        "  except ValueError:\n",
        "    print(\"This is not a number\")\n"
      ]
    },
    {
      "cell_type": "code",
      "source": [
        "str_int()"
      ],
      "metadata": {
        "colab": {
          "base_uri": "https://localhost:8080/"
        },
        "id": "ETBeOMle9Zdj",
        "outputId": "dbd6ea21-7f90-46e5-b630-604ca3b748dc"
      },
      "execution_count": 3,
      "outputs": [
        {
          "output_type": "stream",
          "name": "stdout",
          "text": [
            "Give a numbercat\n",
            "This is not a number\n"
          ]
        }
      ]
    }
  ]
}