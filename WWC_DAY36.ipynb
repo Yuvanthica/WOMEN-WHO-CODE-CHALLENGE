{
  "nbformat": 4,
  "nbformat_minor": 0,
  "metadata": {
    "colab": {
      "provenance": [],
      "authorship_tag": "ABX9TyPy6/ROzVO2dIryif7nFOdr",
      "include_colab_link": true
    },
    "kernelspec": {
      "name": "python3",
      "display_name": "Python 3"
    },
    "language_info": {
      "name": "python"
    }
  },
  "cells": [
    {
      "cell_type": "markdown",
      "metadata": {
        "id": "view-in-github",
        "colab_type": "text"
      },
      "source": [
        "<a href=\"https://colab.research.google.com/github/Yuvanthica/WOMEN-WHO-CODE-CHALLENGE/blob/main/WWC_DAY36.ipynb\" target=\"_parent\"><img src=\"https://colab.research.google.com/assets/colab-badge.svg\" alt=\"Open In Colab\"/></a>"
      ]
    },
    {
      "cell_type": "markdown",
      "source": [
        "Write a Python program to check if two strings are anagrams"
      ],
      "metadata": {
        "id": "2E9mh7X1_A7R"
      }
    },
    {
      "cell_type": "code",
      "execution_count": 4,
      "metadata": {
        "id": "0a3esAta-9UY"
      },
      "outputs": [],
      "source": [
        "def check_anagram(str1,str2):\n",
        "  if sorted(str1) == sorted(str2):\n",
        "    print(\"These are anagrams\")\n",
        "    #return True\n",
        "  else:\n",
        "   print(\"These are not anagrams\")\n",
        "   #return False"
      ]
    },
    {
      "cell_type": "code",
      "source": [
        "check_anagram(\"silent\",\"listen\")"
      ],
      "metadata": {
        "id": "PMsPj2JxAyX6",
        "colab": {
          "base_uri": "https://localhost:8080/"
        },
        "outputId": "466b13a4-5b05-429f-add0-25b1ea55fe49"
      },
      "execution_count": 5,
      "outputs": [
        {
          "output_type": "stream",
          "name": "stdout",
          "text": [
            "These are anagrams\n"
          ]
        }
      ]
    },
    {
      "cell_type": "code",
      "source": [
        "check_anagram(\"door\",\"road\")"
      ],
      "metadata": {
        "colab": {
          "base_uri": "https://localhost:8080/"
        },
        "id": "nQfU4zscdtFS",
        "outputId": "8e675b3f-8e60-4f59-a635-717b7f19a503"
      },
      "execution_count": 6,
      "outputs": [
        {
          "output_type": "stream",
          "name": "stdout",
          "text": [
            "These are not anagrams\n"
          ]
        }
      ]
    }
  ]
}