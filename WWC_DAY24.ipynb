{
  "nbformat": 4,
  "nbformat_minor": 0,
  "metadata": {
    "colab": {
      "provenance": [],
      "authorship_tag": "ABX9TyMrOj5EhKHzOWHBXY9tLd4Q",
      "include_colab_link": true
    },
    "kernelspec": {
      "name": "python3",
      "display_name": "Python 3"
    },
    "language_info": {
      "name": "python"
    }
  },
  "cells": [
    {
      "cell_type": "markdown",
      "metadata": {
        "id": "view-in-github",
        "colab_type": "text"
      },
      "source": [
        "<a href=\"https://colab.research.google.com/github/Yuvanthica/WOMEN-WHO-CODE-CHALLENGE/blob/main/WWC_DAY24.ipynb\" target=\"_parent\"><img src=\"https://colab.research.google.com/assets/colab-badge.svg\" alt=\"Open In Colab\"/></a>"
      ]
    },
    {
      "cell_type": "markdown",
      "source": [
        "Write a program to remove vowels from a given string"
      ],
      "metadata": {
        "id": "2l6X-zhBUEjq"
      }
    },
    {
      "cell_type": "code",
      "execution_count": 36,
      "metadata": {
        "id": "SjRpNP-aT_ul"
      },
      "outputs": [],
      "source": [
        "word = \"Peace\"\n"
      ]
    },
    {
      "cell_type": "code",
      "source": [
        "def remv(word):\n",
        "    vlst = ['a','e','i','o','u']\n",
        "    word1 = [i for i in word if i.lower() not in vlst]\n",
        "    word1 = ''.join(word1)\n",
        "    print(word1)\n",
        ""
      ],
      "metadata": {
        "id": "kVmcku5DUPad"
      },
      "execution_count": 37,
      "outputs": []
    },
    {
      "cell_type": "code",
      "source": [
        "remv(word)"
      ],
      "metadata": {
        "colab": {
          "base_uri": "https://localhost:8080/"
        },
        "id": "i8S-PQRdUYZK",
        "outputId": "a834f3ab-7507-4c49-dc0e-b6182df0d5d0"
      },
      "execution_count": 38,
      "outputs": [
        {
          "output_type": "stream",
          "name": "stdout",
          "text": [
            "Pc\n"
          ]
        }
      ]
    }
  ]
}