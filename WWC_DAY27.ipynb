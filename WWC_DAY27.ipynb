{
  "nbformat": 4,
  "nbformat_minor": 0,
  "metadata": {
    "colab": {
      "provenance": [],
      "authorship_tag": "ABX9TyMfbDpSVoDcDKIEQza8OENd",
      "include_colab_link": true
    },
    "kernelspec": {
      "name": "python3",
      "display_name": "Python 3"
    },
    "language_info": {
      "name": "python"
    }
  },
  "cells": [
    {
      "cell_type": "markdown",
      "metadata": {
        "id": "view-in-github",
        "colab_type": "text"
      },
      "source": [
        "<a href=\"https://colab.research.google.com/github/Yuvanthica/WOMEN-WHO-CODE-CHALLENGE/blob/main/WWC_DAY27.ipynb\" target=\"_parent\"><img src=\"https://colab.research.google.com/assets/colab-badge.svg\" alt=\"Open In Colab\"/></a>"
      ]
    },
    {
      "cell_type": "markdown",
      "source": [
        "Create a program that sorts a list of strings alphabetically."
      ],
      "metadata": {
        "id": "eayIZFeKh-c-"
      }
    },
    {
      "cell_type": "code",
      "execution_count": 1,
      "metadata": {
        "id": "FfkQ5US8h3wM"
      },
      "outputs": [],
      "source": [
        "strings =[\"Yogalakshmi\",\"Nalina\",\"Subaa\",\"kirupashini\",\"rajashree\"]"
      ]
    },
    {
      "cell_type": "code",
      "source": [
        "strings.sort(key = lambda str: str.lower())"
      ],
      "metadata": {
        "id": "Glsyslp8iozx"
      },
      "execution_count": 8,
      "outputs": []
    },
    {
      "cell_type": "code",
      "source": [
        "strings"
      ],
      "metadata": {
        "colab": {
          "base_uri": "https://localhost:8080/"
        },
        "id": "HyOE5qTbisa2",
        "outputId": "fa5ff7b3-e16b-4d93-8dac-a70a2639a3fc"
      },
      "execution_count": 9,
      "outputs": [
        {
          "output_type": "execute_result",
          "data": {
            "text/plain": [
              "['kirupashini', 'Nalina', 'rajashree', 'Subaa', 'Yogalakshmi']"
            ]
          },
          "metadata": {},
          "execution_count": 9
        }
      ]
    },
    {
      "cell_type": "code",
      "source": [
        "def sort_alph_lst(str_lst):\n",
        "  str_lst.sort(key = lambda str: str.lower())\n",
        "  return str_lst"
      ],
      "metadata": {
        "id": "MCCjuATsjVL9"
      },
      "execution_count": 13,
      "outputs": []
    },
    {
      "cell_type": "code",
      "source": [
        "sort_alph_lst([\"Yogalakshmi\",\"Nalina\",\"Subaa\",\"kirupashini\",\"rajashree\"])"
      ],
      "metadata": {
        "colab": {
          "base_uri": "https://localhost:8080/"
        },
        "id": "oMwgPQcHjhK5",
        "outputId": "b4ce6df0-52ac-479f-bf10-b5fb4c4d6c42"
      },
      "execution_count": 14,
      "outputs": [
        {
          "output_type": "execute_result",
          "data": {
            "text/plain": [
              "['kirupashini', 'Nalina', 'rajashree', 'Subaa', 'Yogalakshmi']"
            ]
          },
          "metadata": {},
          "execution_count": 14
        }
      ]
    }
  ]
}