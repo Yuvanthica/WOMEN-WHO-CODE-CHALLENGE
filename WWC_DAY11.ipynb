{
  "nbformat": 4,
  "nbformat_minor": 0,
  "metadata": {
    "colab": {
      "provenance": [],
      "authorship_tag": "ABX9TyNMSCUUzewTgXHqF5oGZ4kC",
      "include_colab_link": true
    },
    "kernelspec": {
      "name": "python3",
      "display_name": "Python 3"
    },
    "language_info": {
      "name": "python"
    }
  },
  "cells": [
    {
      "cell_type": "markdown",
      "metadata": {
        "id": "view-in-github",
        "colab_type": "text"
      },
      "source": [
        "<a href=\"https://colab.research.google.com/github/Yuvanthica/WOMEN-WHO-CODE-CHALLENGE/blob/main/WWC_DAY11.ipynb\" target=\"_parent\"><img src=\"https://colab.research.google.com/assets/colab-badge.svg\" alt=\"Open In Colab\"/></a>"
      ]
    },
    {
      "cell_type": "markdown",
      "source": [
        "**Write a program to print the multiplication table of a given number.**"
      ],
      "metadata": {
        "id": "Nk8ZD-b06fV1"
      }
    },
    {
      "cell_type": "code",
      "execution_count": 11,
      "metadata": {
        "id": "Y7pr4Wqg6UyE"
      },
      "outputs": [],
      "source": [
        "def mult(num,rg): # rg - the bottom for the tables\n",
        "  mul = []\n",
        "  for i in range(0,rg):\n",
        "    mul.append(num*i)\n",
        "  return mul"
      ]
    },
    {
      "cell_type": "code",
      "source": [
        "mult(5,20)"
      ],
      "metadata": {
        "colab": {
          "base_uri": "https://localhost:8080/"
        },
        "id": "ky1Tdebz7MJE",
        "outputId": "32bed141-8a8c-462c-c732-71ccf1131498"
      },
      "execution_count": 12,
      "outputs": [
        {
          "output_type": "execute_result",
          "data": {
            "text/plain": [
              "[0, 5, 10, 15, 20, 25, 30, 35, 40, 45, 50, 55, 60, 65, 70, 75, 80, 85, 90, 95]"
            ]
          },
          "metadata": {},
          "execution_count": 12
        }
      ]
    }
  ]
}