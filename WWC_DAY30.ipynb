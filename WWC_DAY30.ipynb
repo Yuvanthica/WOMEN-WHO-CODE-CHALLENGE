{
  "nbformat": 4,
  "nbformat_minor": 0,
  "metadata": {
    "colab": {
      "provenance": [],
      "authorship_tag": "ABX9TyMhBzuL9xgKXIWR1wFQRvw3",
      "include_colab_link": true
    },
    "kernelspec": {
      "name": "python3",
      "display_name": "Python 3"
    },
    "language_info": {
      "name": "python"
    }
  },
  "cells": [
    {
      "cell_type": "markdown",
      "metadata": {
        "id": "view-in-github",
        "colab_type": "text"
      },
      "source": [
        "<a href=\"https://colab.research.google.com/github/Yuvanthica/WOMEN-WHO-CODE-CHALLENGE/blob/main/WWC_DAY30.ipynb\" target=\"_parent\"><img src=\"https://colab.research.google.com/assets/colab-badge.svg\" alt=\"Open In Colab\"/></a>"
      ]
    },
    {
      "cell_type": "markdown",
      "source": [
        "Create a function that finds the second smallest element in a list."
      ],
      "metadata": {
        "id": "hQW-nzMdyztZ"
      }
    },
    {
      "cell_type": "code",
      "execution_count": 1,
      "metadata": {
        "id": "9_vcfs09ywNc"
      },
      "outputs": [],
      "source": [
        "lst = [8,56,23,9,4,190]"
      ]
    },
    {
      "cell_type": "code",
      "source": [
        "sorted(lst)"
      ],
      "metadata": {
        "colab": {
          "base_uri": "https://localhost:8080/"
        },
        "id": "WKuEGv94zFMY",
        "outputId": "bf476c56-d359-4a6c-b5ca-ef067445637b"
      },
      "execution_count": 4,
      "outputs": [
        {
          "output_type": "execute_result",
          "data": {
            "text/plain": [
              "[4, 8, 9, 23, 56, 190]"
            ]
          },
          "metadata": {},
          "execution_count": 4
        }
      ]
    },
    {
      "cell_type": "code",
      "source": [
        "def second_small(lst):\n",
        "  print(sorted(lst)[1])\n"
      ],
      "metadata": {
        "id": "iNIhVc1mzKk4"
      },
      "execution_count": 17,
      "outputs": []
    },
    {
      "cell_type": "code",
      "source": [
        "second_small(lst)"
      ],
      "metadata": {
        "colab": {
          "base_uri": "https://localhost:8080/"
        },
        "id": "rSe4VbqczeLK",
        "outputId": "d325f42e-eed3-4782-8319-2928a6b1854d"
      },
      "execution_count": 18,
      "outputs": [
        {
          "output_type": "stream",
          "name": "stdout",
          "text": [
            "8\n"
          ]
        }
      ]
    }
  ]
}