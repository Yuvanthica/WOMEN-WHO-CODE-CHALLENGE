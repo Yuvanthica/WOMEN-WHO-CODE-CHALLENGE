{
  "nbformat": 4,
  "nbformat_minor": 0,
  "metadata": {
    "colab": {
      "provenance": [],
      "authorship_tag": "ABX9TyNJd96ydKhYEI2Co3TWh04o",
      "include_colab_link": true
    },
    "kernelspec": {
      "name": "python3",
      "display_name": "Python 3"
    },
    "language_info": {
      "name": "python"
    }
  },
  "cells": [
    {
      "cell_type": "markdown",
      "metadata": {
        "id": "view-in-github",
        "colab_type": "text"
      },
      "source": [
        "<a href=\"https://colab.research.google.com/github/Yuvanthica/WOMEN-WHO-CODE-CHALLENGE/blob/main/WWC_DAY59.ipynb\" target=\"_parent\"><img src=\"https://colab.research.google.com/assets/colab-badge.svg\" alt=\"Open In Colab\"/></a>"
      ]
    },
    {
      "cell_type": "markdown",
      "source": [
        "Create a function that checks if a number is a perfect square"
      ],
      "metadata": {
        "id": "BWJk92di-Ikf"
      }
    },
    {
      "cell_type": "code",
      "source": [
        "import math"
      ],
      "metadata": {
        "id": "jH209Eh928Qy"
      },
      "execution_count": 4,
      "outputs": []
    },
    {
      "cell_type": "code",
      "execution_count": 19,
      "metadata": {
        "id": "uGIPQSQv95lA"
      },
      "outputs": [],
      "source": [
        "def check_perfect_sq(num):\n",
        "  if int(math.pow(num, .5))*int(math.pow(num, .5)) ==num :\n",
        "    print(\"The given number is a perfect square\")\n",
        "  else:\n",
        "    print(\"The given number is not a perfect square\")"
      ]
    },
    {
      "cell_type": "code",
      "source": [
        "check_perfect_sq(90)"
      ],
      "metadata": {
        "colab": {
          "base_uri": "https://localhost:8080/"
        },
        "id": "os_1Vtj93b5k",
        "outputId": "6700def0-45a7-45a9-efb1-0ca03b7b4d38"
      },
      "execution_count": 22,
      "outputs": [
        {
          "output_type": "stream",
          "name": "stdout",
          "text": [
            "The given number is not a perfect square\n"
          ]
        }
      ]
    }
  ]
}