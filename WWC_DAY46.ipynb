{
  "nbformat": 4,
  "nbformat_minor": 0,
  "metadata": {
    "colab": {
      "provenance": [],
      "authorship_tag": "ABX9TyM4jRrlyFx0jv+K0BMKqsKi",
      "include_colab_link": true
    },
    "kernelspec": {
      "name": "python3",
      "display_name": "Python 3"
    },
    "language_info": {
      "name": "python"
    }
  },
  "cells": [
    {
      "cell_type": "markdown",
      "metadata": {
        "id": "view-in-github",
        "colab_type": "text"
      },
      "source": [
        "<a href=\"https://colab.research.google.com/github/Yuvanthica/WOMEN-WHO-CODE-CHALLENGE/blob/main/WWC_DAY46.ipynb\" target=\"_parent\"><img src=\"https://colab.research.google.com/assets/colab-badge.svg\" alt=\"Open In Colab\"/></a>"
      ]
    },
    {
      "cell_type": "markdown",
      "source": [
        "Write a function to check if a given list is sorted"
      ],
      "metadata": {
        "id": "Ia5a2Y92bQqN"
      }
    },
    {
      "cell_type": "code",
      "execution_count": 1,
      "metadata": {
        "id": "W8dnE2WKbCqE"
      },
      "outputs": [],
      "source": [
        "def check_if_sorted(lst):\n",
        "  if lst == sorted(lst):\n",
        "    print(\"The given list is sorted\")\n",
        "  else:\n",
        "    print(\"The given list is not sorted\")"
      ]
    },
    {
      "cell_type": "code",
      "source": [
        "check_if_sorted([9,4,5,5])"
      ],
      "metadata": {
        "colab": {
          "base_uri": "https://localhost:8080/"
        },
        "id": "jR5rK3awdo2v",
        "outputId": "5df02c29-f4e0-4f96-d275-afa0f3def8ca"
      },
      "execution_count": 4,
      "outputs": [
        {
          "output_type": "stream",
          "name": "stdout",
          "text": [
            "The given list is not sorted\n"
          ]
        }
      ]
    }
  ]
}