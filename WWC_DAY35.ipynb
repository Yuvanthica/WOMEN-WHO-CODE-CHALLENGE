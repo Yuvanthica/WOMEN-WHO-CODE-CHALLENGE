{
  "nbformat": 4,
  "nbformat_minor": 0,
  "metadata": {
    "colab": {
      "provenance": [],
      "authorship_tag": "ABX9TyOl103f02yR6T2UJoAsvV8+",
      "include_colab_link": true
    },
    "kernelspec": {
      "name": "python3",
      "display_name": "Python 3"
    },
    "language_info": {
      "name": "python"
    }
  },
  "cells": [
    {
      "cell_type": "markdown",
      "metadata": {
        "id": "view-in-github",
        "colab_type": "text"
      },
      "source": [
        "<a href=\"https://colab.research.google.com/github/Yuvanthica/WOMEN-WHO-CODE-CHALLENGE/blob/main/WWC_DAY35.ipynb\" target=\"_parent\"><img src=\"https://colab.research.google.com/assets/colab-badge.svg\" alt=\"Open In Colab\"/></a>"
      ]
    },
    {
      "cell_type": "markdown",
      "source": [
        "Write a simple unit test for a function that adds two numbers"
      ],
      "metadata": {
        "id": "QGjefXauC7jU"
      }
    },
    {
      "cell_type": "code",
      "source": [
        "import unittest\n"
      ],
      "metadata": {
        "id": "qlkvaZuFDLfg"
      },
      "execution_count": 70,
      "outputs": []
    },
    {
      "cell_type": "code",
      "execution_count": 71,
      "metadata": {
        "id": "RkdofMMXCUqW"
      },
      "outputs": [],
      "source": [
        "def add_two_num(num1,num2):\n",
        "  num = num1 + num2"
      ]
    },
    {
      "cell_type": "code",
      "source": [
        "add_two_num(6,5)"
      ],
      "metadata": {
        "id": "Uyabqle5DImo"
      },
      "execution_count": 72,
      "outputs": []
    },
    {
      "cell_type": "code",
      "source": [
        "class test_sum(unittest.TestCase):\n",
        "    def test_sum(self):\n",
        "        self.assertEquals(add_two_num(42,43),85)\n",
        "\n",
        "#driver code\n",
        "if __name__==\"main\":\n",
        "    unittest.main()"
      ],
      "metadata": {
        "id": "t0lwSIG-Figf"
      },
      "execution_count": 74,
      "outputs": []
    }
  ]
}