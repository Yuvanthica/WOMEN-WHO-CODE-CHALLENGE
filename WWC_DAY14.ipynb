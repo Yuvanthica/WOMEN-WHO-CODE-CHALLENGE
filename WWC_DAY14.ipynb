{
  "nbformat": 4,
  "nbformat_minor": 0,
  "metadata": {
    "colab": {
      "provenance": [],
      "authorship_tag": "ABX9TyMeiTIIaNhoiHioPdnz7LQr",
      "include_colab_link": true
    },
    "kernelspec": {
      "name": "python3",
      "display_name": "Python 3"
    },
    "language_info": {
      "name": "python"
    }
  },
  "cells": [
    {
      "cell_type": "markdown",
      "metadata": {
        "id": "view-in-github",
        "colab_type": "text"
      },
      "source": [
        "<a href=\"https://colab.research.google.com/github/Yuvanthica/WOMEN-WHO-CODE-CHALLENGE/blob/main/WWC_DAY14.ipynb\" target=\"_parent\"><img src=\"https://colab.research.google.com/assets/colab-badge.svg\" alt=\"Open In Colab\"/></a>"
      ]
    },
    {
      "cell_type": "markdown",
      "source": [
        "Write a program to print the first n numbers of a Fibonacci sequence"
      ],
      "metadata": {
        "id": "yzK4OyYGlXqh"
      }
    },
    {
      "cell_type": "code",
      "execution_count": 7,
      "metadata": {
        "id": "mrSvZfHLjwOn"
      },
      "outputs": [],
      "source": [
        "def fib(n):\n",
        "      x = 0\n",
        "      y= 1\n",
        "      cnt = 0\n",
        "\n",
        "      if n <0 :\n",
        "        print(\"None\")\n",
        "      elif n ==0:\n",
        "        return x\n",
        "      elif n ==1:\n",
        "         return y\n",
        "      else :\n",
        "       while cnt <n:\n",
        "          print(x)\n",
        "          z=x+y\n",
        "          x = y\n",
        "          y = z\n",
        "          cnt+=1\n"
      ]
    },
    {
      "cell_type": "code",
      "source": [
        "fib(7)"
      ],
      "metadata": {
        "colab": {
          "base_uri": "https://localhost:8080/"
        },
        "id": "K67zMpB7mSWF",
        "outputId": "ede7de22-6daf-400a-b7fa-b77e03036b79"
      },
      "execution_count": 9,
      "outputs": [
        {
          "output_type": "stream",
          "name": "stdout",
          "text": [
            "0\n",
            "1\n",
            "1\n",
            "2\n",
            "3\n",
            "5\n",
            "8\n"
          ]
        }
      ]
    }
  ]
}