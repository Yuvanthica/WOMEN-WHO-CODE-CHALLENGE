{
  "nbformat": 4,
  "nbformat_minor": 0,
  "metadata": {
    "colab": {
      "provenance": [],
      "authorship_tag": "ABX9TyMZYUC2EtgVM3kk6Y4sSaX8",
      "include_colab_link": true
    },
    "kernelspec": {
      "name": "python3",
      "display_name": "Python 3"
    },
    "language_info": {
      "name": "python"
    }
  },
  "cells": [
    {
      "cell_type": "markdown",
      "metadata": {
        "id": "view-in-github",
        "colab_type": "text"
      },
      "source": [
        "<a href=\"https://colab.research.google.com/github/Yuvanthica/WOMEN-WHO-CODE-CHALLENGE/blob/main/WWC_DAY21.ipynb\" target=\"_parent\"><img src=\"https://colab.research.google.com/assets/colab-badge.svg\" alt=\"Open In Colab\"/></a>"
      ]
    },
    {
      "cell_type": "markdown",
      "source": [
        "Create a program to remove a specific element from a set."
      ],
      "metadata": {
        "id": "RtuP0_YJPDpR"
      }
    },
    {
      "cell_type": "code",
      "source": [
        "def rem_set(sets,element):\n",
        "  new_set = set()\n",
        "  for ele in sets- {element}:\n",
        "    new_set.add(ele)\n",
        "  return new_set"
      ],
      "metadata": {
        "id": "O1yXUmJSmthx"
      },
      "execution_count": 34,
      "outputs": []
    },
    {
      "cell_type": "code",
      "source": [
        "sets = {3,4,6,7,8,9}"
      ],
      "metadata": {
        "id": "9LvtxW_mnHZO"
      },
      "execution_count": 35,
      "outputs": []
    },
    {
      "cell_type": "code",
      "source": [
        "rem_set(sets,4)"
      ],
      "metadata": {
        "colab": {
          "base_uri": "https://localhost:8080/"
        },
        "id": "NlYZHRhEm8uW",
        "outputId": "f0293fd7-b0bf-4e9e-b8ea-42e5d6e28198"
      },
      "execution_count": 36,
      "outputs": [
        {
          "output_type": "execute_result",
          "data": {
            "text/plain": [
              "{3, 6, 7, 8, 9}"
            ]
          },
          "metadata": {},
          "execution_count": 36
        }
      ]
    },
    {
      "cell_type": "code",
      "execution_count": 31,
      "metadata": {
        "id": "uiYSoIXwPAww"
      },
      "outputs": [],
      "source": [
        "st = {1,2,3,4,5,6,7}\n",
        "el = 5\n",
        "new1=set()"
      ]
    },
    {
      "cell_type": "code",
      "source": [
        "for ele in st - {el}:\n",
        "  new1.add(ele)\n",
        "\n",
        "print(new1)"
      ],
      "metadata": {
        "colab": {
          "base_uri": "https://localhost:8080/"
        },
        "id": "FGCiH27QkoBf",
        "outputId": "d4fc2ffc-6e08-4026-9fcb-6c8a7fd7e910"
      },
      "execution_count": 32,
      "outputs": [
        {
          "output_type": "stream",
          "name": "stdout",
          "text": [
            "{1, 2, 3, 4, 6, 7}\n"
          ]
        }
      ]
    }
  ]
}