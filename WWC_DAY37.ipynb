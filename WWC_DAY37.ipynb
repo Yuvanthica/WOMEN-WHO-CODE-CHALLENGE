{
  "nbformat": 4,
  "nbformat_minor": 0,
  "metadata": {
    "colab": {
      "provenance": [],
      "authorship_tag": "ABX9TyPihuhiI6nHmOMpHA12NfHl",
      "include_colab_link": true
    },
    "kernelspec": {
      "name": "python3",
      "display_name": "Python 3"
    },
    "language_info": {
      "name": "python"
    }
  },
  "cells": [
    {
      "cell_type": "markdown",
      "metadata": {
        "id": "view-in-github",
        "colab_type": "text"
      },
      "source": [
        "<a href=\"https://colab.research.google.com/github/Yuvanthica/WOMEN-WHO-CODE-CHALLENGE/blob/main/WWC_DAY37.ipynb\" target=\"_parent\"><img src=\"https://colab.research.google.com/assets/colab-badge.svg\" alt=\"Open In Colab\"/></a>"
      ]
    },
    {
      "cell_type": "markdown",
      "source": [
        "Write a program to iterate through a dictionary and print its keys and values"
      ],
      "metadata": {
        "id": "84HObEU8zT88"
      }
    },
    {
      "cell_type": "code",
      "execution_count": 6,
      "metadata": {
        "id": "omOv9w5uzPuZ"
      },
      "outputs": [],
      "source": [
        "dict = {4:\"Yuvanthica\",2:\"Keerthana\",1:\"Deepak\",3:\"Nandhu\"}"
      ]
    },
    {
      "cell_type": "code",
      "source": [
        "for key in diction:\n",
        "   print(key,diction[key])"
      ],
      "metadata": {
        "colab": {
          "base_uri": "https://localhost:8080/"
        },
        "id": "-Gw3JvUNzln8",
        "outputId": "ba2bfa8e-9a6f-4152-8ef7-183c3e09ade0"
      },
      "execution_count": 4,
      "outputs": [
        {
          "output_type": "stream",
          "name": "stdout",
          "text": [
            "4 Yuvanthica\n",
            "2 Keerthana\n",
            "1 Deepak\n",
            "3 Nandhu\n"
          ]
        }
      ]
    },
    {
      "cell_type": "code",
      "source": [
        "def diction_(diction):\n",
        "  for key in diction:\n",
        "   print(key,diction[key])"
      ],
      "metadata": {
        "id": "Hm71iyiF05FI"
      },
      "execution_count": 5,
      "outputs": []
    },
    {
      "cell_type": "code",
      "source": [
        "diction_(dict)"
      ],
      "metadata": {
        "colab": {
          "base_uri": "https://localhost:8080/"
        },
        "id": "XuOs-W4o0_fh",
        "outputId": "3a93fc71-7c4d-4c87-8f52-768ee79f8a64"
      },
      "execution_count": 7,
      "outputs": [
        {
          "output_type": "stream",
          "name": "stdout",
          "text": [
            "4 Yuvanthica\n",
            "2 Keerthana\n",
            "1 Deepak\n",
            "3 Nandhu\n"
          ]
        }
      ]
    }
  ]
}