{
  "nbformat": 4,
  "nbformat_minor": 0,
  "metadata": {
    "colab": {
      "provenance": [],
      "authorship_tag": "ABX9TyNc+1AbABVEq8QT6q9ycPeD",
      "include_colab_link": true
    },
    "kernelspec": {
      "name": "python3",
      "display_name": "Python 3"
    },
    "language_info": {
      "name": "python"
    }
  },
  "cells": [
    {
      "cell_type": "markdown",
      "metadata": {
        "id": "view-in-github",
        "colab_type": "text"
      },
      "source": [
        "<a href=\"https://colab.research.google.com/github/Yuvanthica/WOMEN-WHO-CODE-CHALLENGE/blob/main/WWC_DAY34.ipynb\" target=\"_parent\"><img src=\"https://colab.research.google.com/assets/colab-badge.svg\" alt=\"Open In Colab\"/></a>"
      ]
    },
    {
      "cell_type": "markdown",
      "source": [
        "Write a Python program to merge two dictionaries"
      ],
      "metadata": {
        "id": "pUPZGYeWx8O0"
      }
    },
    {
      "cell_type": "code",
      "execution_count": 1,
      "metadata": {
        "id": "XMkIMDDax3O0"
      },
      "outputs": [],
      "source": [
        "d1 = {'India': 'Delhi',\n",
        "      'Canada': 'Ottawa',\n",
        "      'United States': 'Washington D. C.'}\n",
        "\n",
        "d2 = {'France': 'Paris',\n",
        "      'Malaysia': 'Kuala Lumpur'}"
      ]
    },
    {
      "cell_type": "code",
      "source": [
        "mergedict = {**d1, **d2}\n"
      ],
      "metadata": {
        "id": "lTJkNUiEyeSz"
      },
      "execution_count": 3,
      "outputs": []
    },
    {
      "cell_type": "code",
      "source": [
        "print(mergedict)"
      ],
      "metadata": {
        "colab": {
          "base_uri": "https://localhost:8080/"
        },
        "id": "5_PJ7cveylr0",
        "outputId": "1190b40e-8ac5-4e09-c75b-e36f020c3503"
      },
      "execution_count": 4,
      "outputs": [
        {
          "output_type": "stream",
          "name": "stdout",
          "text": [
            "{'India': 'Delhi', 'Canada': 'Ottawa', 'United States': 'Washington D. C.', 'France': 'Paris', 'Malaysia': 'Kuala Lumpur'}\n"
          ]
        }
      ]
    },
    {
      "cell_type": "code",
      "source": [
        "def mdict(dict1,dict2):\n",
        "  final = {**dict1,**dict2}\n",
        "  final2 = dict1 |dict2\n",
        "  return final ,final2"
      ],
      "metadata": {
        "id": "tg8iQDC1ypi6"
      },
      "execution_count": 9,
      "outputs": []
    },
    {
      "cell_type": "code",
      "source": [
        "mdict(d1,d2)"
      ],
      "metadata": {
        "colab": {
          "base_uri": "https://localhost:8080/"
        },
        "id": "vDq9xy2Oy3Qw",
        "outputId": "5e74d185-f096-45c4-d963-32c1c0c141ee"
      },
      "execution_count": 10,
      "outputs": [
        {
          "output_type": "execute_result",
          "data": {
            "text/plain": [
              "({'India': 'Delhi',\n",
              "  'Canada': 'Ottawa',\n",
              "  'United States': 'Washington D. C.',\n",
              "  'France': 'Paris',\n",
              "  'Malaysia': 'Kuala Lumpur'},\n",
              " {'India': 'Delhi',\n",
              "  'Canada': 'Ottawa',\n",
              "  'United States': 'Washington D. C.',\n",
              "  'France': 'Paris',\n",
              "  'Malaysia': 'Kuala Lumpur'})"
            ]
          },
          "metadata": {},
          "execution_count": 10
        }
      ]
    },
    {
      "cell_type": "code",
      "source": [],
      "metadata": {
        "id": "7PhMnrsbzzQT"
      },
      "execution_count": null,
      "outputs": []
    }
  ]
}