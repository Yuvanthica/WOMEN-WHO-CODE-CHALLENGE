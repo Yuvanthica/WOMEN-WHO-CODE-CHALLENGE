{
  "nbformat": 4,
  "nbformat_minor": 0,
  "metadata": {
    "colab": {
      "provenance": [],
      "authorship_tag": "ABX9TyNf4buzdC36jBm9dzaOAPXD",
      "include_colab_link": true
    },
    "kernelspec": {
      "name": "python3",
      "display_name": "Python 3"
    },
    "language_info": {
      "name": "python"
    }
  },
  "cells": [
    {
      "cell_type": "markdown",
      "metadata": {
        "id": "view-in-github",
        "colab_type": "text"
      },
      "source": [
        "<a href=\"https://colab.research.google.com/github/Yuvanthica/WOMEN-WHO-CODE-CHALLENGE/blob/main/WWC_DAY39.ipynb\" target=\"_parent\"><img src=\"https://colab.research.google.com/assets/colab-badge.svg\" alt=\"Open In Colab\"/></a>"
      ]
    },
    {
      "cell_type": "markdown",
      "source": [
        "Write a program to find the most common words in a text file"
      ],
      "metadata": {
        "id": "vYkH2rKoGvik"
      }
    },
    {
      "cell_type": "code",
      "execution_count": 2,
      "metadata": {
        "id": "oIc57OxBGq_C"
      },
      "outputs": [],
      "source": [
        "def find_common_words(file_name):\n",
        "\n",
        "    with open(\n",
        "        file_name,\n",
        "        \"r\",\n",
        "        encoding=\"utf-8\",\n",
        "    ) as file:\n",
        "        words = file.read().split()\n",
        "        word_count = {}\n",
        "        for word in words:\n",
        "            if word in word_count:\n",
        "                word_count[word] += 1\n",
        "            else:\n",
        "                word_count[word] = 1\n",
        "        print(word_count)\n",
        "        max_word = max(word_count, key=word_count.get)\n",
        "        print(\n",
        "            f\"The most common word is '{max_word}' with {word_count[max_word]} occurences.\"\n",
        "        )\n",
        "\n",
        "\n"
      ]
    },
    {
      "cell_type": "code",
      "source": [
        "# Test the function\n",
        "find_common_words(\"text.txt\")"
      ],
      "metadata": {
        "id": "5gskoShzKCqG"
      },
      "execution_count": null,
      "outputs": []
    }
  ]
}