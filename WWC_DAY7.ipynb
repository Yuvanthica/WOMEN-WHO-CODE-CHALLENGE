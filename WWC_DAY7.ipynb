{
  "nbformat": 4,
  "nbformat_minor": 0,
  "metadata": {
    "colab": {
      "provenance": [],
      "authorship_tag": "ABX9TyP5d5KzzyVIxVrNjAXBMklX",
      "include_colab_link": true
    },
    "kernelspec": {
      "name": "python3",
      "display_name": "Python 3"
    },
    "language_info": {
      "name": "python"
    }
  },
  "cells": [
    {
      "cell_type": "markdown",
      "metadata": {
        "id": "view-in-github",
        "colab_type": "text"
      },
      "source": [
        "<a href=\"https://colab.research.google.com/github/Yuvanthica/WOMEN-WHO-CODE-CHALLENGE/blob/main/WWC_DAY7.ipynb\" target=\"_parent\"><img src=\"https://colab.research.google.com/assets/colab-badge.svg\" alt=\"Open In Colab\"/></a>"
      ]
    },
    {
      "cell_type": "markdown",
      "source": [
        "** To check if a number is positive, negative, or zero.**"
      ],
      "metadata": {
        "id": "aXdwubiTa0-S"
      }
    },
    {
      "cell_type": "code",
      "execution_count": 9,
      "metadata": {
        "id": "Y9hg7M7aayLL"
      },
      "outputs": [],
      "source": [
        "def check_num(num):\n",
        "  if num > 0:\n",
        "    print(f\"The given number {num} is positive\")\n",
        "  elif num < 0 :\n",
        "    print(f\"The given number {num} is negative\")\n",
        "  else:\n",
        "    print(f\"The given number is zero\")"
      ]
    },
    {
      "cell_type": "code",
      "source": [
        "check_num(4)\n",
        "check_num(-4)\n",
        "check_num(-0)"
      ],
      "metadata": {
        "colab": {
          "base_uri": "https://localhost:8080/"
        },
        "id": "5p2xJbElbb14",
        "outputId": "b9c94f66-7491-43f6-9b2c-17c3e0ff2cf4"
      },
      "execution_count": 14,
      "outputs": [
        {
          "output_type": "stream",
          "name": "stdout",
          "text": [
            "The given number 4 is positive\n",
            "The given number -4 is negative\n",
            "The given number is zero\n"
          ]
        }
      ]
    }
  ]
}