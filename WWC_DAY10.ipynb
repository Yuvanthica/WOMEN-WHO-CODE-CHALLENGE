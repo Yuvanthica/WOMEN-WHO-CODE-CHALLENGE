{
  "nbformat": 4,
  "nbformat_minor": 0,
  "metadata": {
    "colab": {
      "provenance": [],
      "authorship_tag": "ABX9TyNJHOyIZV6S3Tf0bAwH+IaN",
      "include_colab_link": true
    },
    "kernelspec": {
      "name": "python3",
      "display_name": "Python 3"
    },
    "language_info": {
      "name": "python"
    }
  },
  "cells": [
    {
      "cell_type": "markdown",
      "metadata": {
        "id": "view-in-github",
        "colab_type": "text"
      },
      "source": [
        "<a href=\"https://colab.research.google.com/github/Yuvanthica/WOMEN-WHO-CODE-CHALLENGE/blob/main/WWC_DAY10.ipynb\" target=\"_parent\"><img src=\"https://colab.research.google.com/assets/colab-badge.svg\" alt=\"Open In Colab\"/></a>"
      ]
    },
    {
      "cell_type": "markdown",
      "source": [
        "Write a program to remove duplicates from a list."
      ],
      "metadata": {
        "id": "S6TQ7Azh46Qd"
      }
    },
    {
      "cell_type": "code",
      "source": [
        "from collections import Counter"
      ],
      "metadata": {
        "id": "642aTKOT5mbs"
      },
      "execution_count": 3,
      "outputs": []
    },
    {
      "cell_type": "code",
      "execution_count": 4,
      "metadata": {
        "id": "DoIjEfNw43es"
      },
      "outputs": [],
      "source": [
        "lst = [2,4,6,8,6,4,2,10,13]"
      ]
    },
    {
      "cell_type": "code",
      "source": [
        "uni = Counter(lst)\n",
        "print(list(uni.keys()))"
      ],
      "metadata": {
        "colab": {
          "base_uri": "https://localhost:8080/"
        },
        "id": "uOUFdiI65xG4",
        "outputId": "618d75d0-b870-468c-a3f1-a075b78cf144"
      },
      "execution_count": 5,
      "outputs": [
        {
          "output_type": "stream",
          "name": "stdout",
          "text": [
            "[2, 4, 6, 8, 10, 13]\n"
          ]
        }
      ]
    },
    {
      "cell_type": "code",
      "source": [
        "def dup(lst):\n",
        "  numl =[]\n",
        "  for num in lst:\n",
        "    if num not in numl:\n",
        "      numl.append(num)\n",
        "  return numl\n",
        ""
      ],
      "metadata": {
        "id": "99GjwxoQ51in"
      },
      "execution_count": 6,
      "outputs": []
    },
    {
      "cell_type": "code",
      "source": [
        "dup(lst)"
      ],
      "metadata": {
        "id": "FbqcCJeu6K-6",
        "outputId": "c73310de-5a2c-4306-c263-49827f55206c",
        "colab": {
          "base_uri": "https://localhost:8080/"
        }
      },
      "execution_count": 7,
      "outputs": [
        {
          "output_type": "execute_result",
          "data": {
            "text/plain": [
              "[2, 4, 6, 8, 10, 13]"
            ]
          },
          "metadata": {},
          "execution_count": 7
        }
      ]
    }
  ]
}