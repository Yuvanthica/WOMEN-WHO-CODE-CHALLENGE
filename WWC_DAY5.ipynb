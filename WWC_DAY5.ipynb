{
  "nbformat": 4,
  "nbformat_minor": 0,
  "metadata": {
    "colab": {
      "provenance": [],
      "authorship_tag": "ABX9TyPpVJoVebuqfyCZ2NjJ8nmb",
      "include_colab_link": true
    },
    "kernelspec": {
      "name": "python3",
      "display_name": "Python 3"
    },
    "language_info": {
      "name": "python"
    }
  },
  "cells": [
    {
      "cell_type": "markdown",
      "metadata": {
        "id": "view-in-github",
        "colab_type": "text"
      },
      "source": [
        "<a href=\"https://colab.research.google.com/github/Yuvanthica/WOMEN-WHO-CODE-CHALLENGE/blob/main/WWC_DAY5.ipynb\" target=\"_parent\"><img src=\"https://colab.research.google.com/assets/colab-badge.svg\" alt=\"Open In Colab\"/></a>"
      ]
    },
    {
      "cell_type": "markdown",
      "source": [
        "**find maximum  and minimum in a list**"
      ],
      "metadata": {
        "id": "6PN_4PJLdl_y"
      }
    },
    {
      "cell_type": "code",
      "execution_count": 1,
      "metadata": {
        "id": "JeiPYb5mdiju"
      },
      "outputs": [],
      "source": [
        "lst= [1,2,3,4,5,6]\n"
      ]
    },
    {
      "cell_type": "code",
      "source": [
        "def max_min(lst):\n",
        "  print(\"The maximum number in the list is :\" , max(lst))\n",
        "  print(\"The minimum number in the list is :\" , min(lst))\n"
      ],
      "metadata": {
        "id": "T7JDAg5zdtTU"
      },
      "execution_count": 5,
      "outputs": []
    },
    {
      "cell_type": "code",
      "source": [
        "max_min(lst)"
      ],
      "metadata": {
        "colab": {
          "base_uri": "https://localhost:8080/"
        },
        "id": "Qu5TIpvTd35L",
        "outputId": "02ce0f7f-bb38-46b6-94b8-1e2acc01f6e4"
      },
      "execution_count": 6,
      "outputs": [
        {
          "output_type": "stream",
          "name": "stdout",
          "text": [
            "The maximum number in the list is : 6\n",
            "The minimum number in the list is : 1\n"
          ]
        }
      ]
    }
  ]
}